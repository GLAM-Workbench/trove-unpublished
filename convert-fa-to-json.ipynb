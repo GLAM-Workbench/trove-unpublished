{
 "cells": [
  {
   "cell_type": "markdown",
   "id": "d806417c-d5c3-4219-ba8a-321a43bfd545",
   "metadata": {},
   "source": [
    "# Convert a HTML finding aid to JSON\n",
    "\n",
    "While I think the finding aids are created and stored as [EAD](https://www.loc.gov/ead/) encoded XML files, they are delivered as HTML. This means that to reassemble the finding aid hierarchy in a way that facilitates analysis, we have to scrape the HTML and make a few assumptions about the content.\n",
    "\n",
    "This notebook:\n",
    "\n",
    "- Scrapes data from the HTML of a finding aid, saving the hierarchy of series, sub-series, and items as a list of nested objects. The results can be saved as a JSON file.\n",
    "- Extracts a list of items (or leaves) from the finding aid. These are the elements at the bottom of the hierarchy without any children of their own. They're the content rather than the containers – things like letters and diaries.\n",
    "- Extracts a list of items together with the *paths* you follow through the hierarchy to get to them – sort of like breadcrumbs. This is useful because important contextual information can be included at other levels in the hierarchy.\n"
   ]
  },
  {
   "cell_type": "code",
   "execution_count": 43,
   "id": "31a9d9b0-e81e-44d3-95fa-62371cbc5cec",
   "metadata": {
    "tags": []
   },
   "outputs": [],
   "source": [
    "import json\n",
    "import re\n",
    "from pathlib import Path\n",
    "\n",
    "import pandas as pd\n",
    "import requests_cache\n",
    "from bs4 import BeautifulSoup, NavigableString, Tag\n",
    "from requests.adapters import HTTPAdapter\n",
    "from requests.packages.urllib3.util.retry import Retry\n",
    "\n",
    "s = requests_cache.CachedSession()\n",
    "retries = Retry(total=10, backoff_factor=0.2, status_forcelist=[500, 502, 503, 504])\n",
    "s.mount(\"http://\", HTTPAdapter(max_retries=retries))\n",
    "s.mount(\"https://\", HTTPAdapter(max_retries=retries))"
   ]
  },
  {
   "cell_type": "code",
   "execution_count": 46,
   "id": "67fb1811-b65d-41f1-9e73-721243960388",
   "metadata": {
    "tags": []
   },
   "outputs": [],
   "source": [
    "def is_digitised(node):\n",
    "    \"\"\"\n",
    "    Check if a node has digitised images associated with it.\n",
    "    \"\"\"\n",
    "    if \"class\" in node.parent.attrs and \"image-and-title\" in node.parent.attrs[\"class\"]:\n",
    "        return True\n",
    "    return False\n",
    "\n",
    "\n",
    "def get_first_page(node):\n",
    "    \"\"\"\n",
    "    Get the first page image identifier from a set of digitised images associated with a node.\n",
    "    \"\"\"\n",
    "    if img := node.parent.find(\"img\", class_=\"thumbnail\"):\n",
    "        return img[\"data-pid\"]\n",
    "\n",
    "\n",
    "def extract_node_details(node, level):\n",
    "    \"\"\"\n",
    "    Extract the details of the supplied finding aid node.\n",
    "    \"\"\"\n",
    "    details = {\n",
    "        \"id\": node.attrs[\"id\"],\n",
    "        \"title\": node.get_text().strip(),\n",
    "        \"description\": get_text(node),\n",
    "        \"digitised\": is_digitised(node),\n",
    "        \"first_page\": \"\",\n",
    "    }\n",
    "    if details[\"digitised\"]:\n",
    "        try:\n",
    "            details[\"first_page\"] = get_first_page(node)\n",
    "        except KeyError:\n",
    "            pass\n",
    "    details[\"children\"] = get_children(node, level)\n",
    "    return details\n",
    "\n",
    "\n",
    "def get_text(node):\n",
    "    \"\"\"\n",
    "    Get any text within the element that's not in tags or in <p> tags and combine into a single string.\n",
    "    \"\"\"\n",
    "    text = []\n",
    "    for child in node.parent.children:\n",
    "        if isinstance(child, NavigableString):\n",
    "            if string := str(child).strip():\n",
    "                text.append(string)\n",
    "        elif isinstance(child, Tag) and child.name == \"p\":\n",
    "            text.append(str(child.string).strip())\n",
    "    return \"\\n\".join(text)\n",
    "\n",
    "\n",
    "def get_children(parent, level):\n",
    "    \"\"\"\n",
    "    Get all items at the next level down within the hierarchy starting from the current element's parent.\n",
    "    \"\"\"\n",
    "    children = []\n",
    "    for child in parent.parent.find_all(class_=f\"ctag-heading c0{level + 1}\"):\n",
    "        children.append(extract_node_details(child, level + 1))\n",
    "    return children\n",
    "\n",
    "\n",
    "def get_string_by_id(soup, tag, id):\n",
    "    \"\"\"\n",
    "    Get the string value of the required html tag/id.\n",
    "    \"\"\"\n",
    "    try:\n",
    "        return str(soup.find(tag, id=id).string)\n",
    "    except AttributeError:\n",
    "        return \"\"\n",
    "\n",
    "\n",
    "def get_fa_details(soup):\n",
    "    \"\"\"\n",
    "    Get basic details of the finding aid.\n",
    "    \"\"\"\n",
    "    return {\n",
    "        \"title\": get_string_by_id(soup, \"h1\", \"contentrow\"),\n",
    "        \"collection_number\": get_string_by_id(soup, \"h2\", \"collection-number\"),\n",
    "    }\n",
    "\n",
    "\n",
    "def check_tag(node, tag):\n",
    "    \"\"\"\n",
    "    Check if the supplied node is a tag of the specified type.\n",
    "    \"\"\"\n",
    "    if isinstance(node, Tag) and node.name == tag:\n",
    "        return True\n",
    "    return False\n",
    "\n",
    "\n",
    "def find_sibling_tag(node, tag):\n",
    "    \"\"\"\n",
    "    Find the next sibling of the current node that is a tag of the specified type.\n",
    "    \"\"\"\n",
    "    for sib in node.next_siblings:\n",
    "        if check_tag(sib, tag):\n",
    "            return sib\n",
    "\n",
    "\n",
    "def get_fa_summary(soup):\n",
    "    \"\"\"\n",
    "    Get basic details of the finding aid.\n",
    "    \"\"\"\n",
    "    summary_data = {}\n",
    "    if summary_head := soup.find(id=\"collection-summary\"):\n",
    "        summary = find_sibling_tag(summary_head, \"dl\")\n",
    "        for label in summary.find_all(\"dt\"):\n",
    "            value = find_sibling_tag(label, \"dd\")\n",
    "            summary_data[\n",
    "                str(label.string).lower().strip().replace(\" \", \"_\")\n",
    "            ] = value.get_text().strip()\n",
    "    return summary_data\n",
    "\n",
    "\n",
    "def convert_finding_aid(url):\n",
    "    \"\"\"\n",
    "    Extract the hierarchical structure of a html finding aid into a dict or JSON.\n",
    "    \"\"\"\n",
    "    response = s.get(url)\n",
    "    soup = BeautifulSoup(response.text)\n",
    "    fa_data = get_fa_summary(soup)\n",
    "    if \"title\" not in fa_data:\n",
    "        fa_data = get_fa_details(soup)\n",
    "    fa_items = []\n",
    "    for node in soup.find_all(class_=\"ctag-heading c01\"):\n",
    "        fa_items.append(extract_node_details(node, 1))\n",
    "    fa_data[\"items\"] = fa_items\n",
    "    return fa_data"
   ]
  },
  {
   "cell_type": "code",
   "execution_count": 66,
   "id": "428bc712-4183-4552-97d0-560fd748440f",
   "metadata": {
    "tags": []
   },
   "outputs": [],
   "source": [
    "# Insert the url of the finding aid you watn to convert\n",
    "url = \"http://nla.gov.au/nla.obj-225220821/findingaid\"\n",
    "\n",
    "# Get the id from the url\n",
    "fa_id = re.search(r\"nla.obj-\\d+\", url).group(0)\n",
    "\n",
    "# Extract the data from the HTML finding aid\n",
    "fa = convert_finding_aid(url)"
   ]
  },
  {
   "cell_type": "code",
   "execution_count": 67,
   "id": "8fc0f706-ebf2-4193-8ffe-abeb18ed30f4",
   "metadata": {
    "tags": [
     "nbval-skip"
    ]
   },
   "outputs": [
    {
     "data": {
      "text/plain": [
       "3813065"
      ]
     },
     "execution_count": 67,
     "metadata": {},
     "output_type": "execute_result"
    }
   ],
   "source": [
    "# Write the fa data to a JSON file\n",
    "Path(f\"finding-aid-{fa_id}.json\").write_text(json.dumps(fa, indent=4))"
   ]
  },
  {
   "cell_type": "markdown",
   "id": "b15fd8fb-3aef-47af-9323-b45f8abd76ac",
   "metadata": {},
   "source": [
    "## Extract a list of items (leaves"
   ]
  },
  {
   "cell_type": "code",
   "execution_count": 68,
   "id": "924a73bc-7b49-4805-98df-202112e4db6d",
   "metadata": {
    "tags": []
   },
   "outputs": [],
   "source": [
    "def find_leaves(node):\n",
    "    \"\"\"\n",
    "    Recurse through a collection of finding aid nodes\n",
    "    to find those at the bottom of the hierarchy (the leaves).\n",
    "\n",
    "    Leaves are identified by having no children.\n",
    "    \"\"\"\n",
    "    if isinstance(node, list):\n",
    "        for i in node:\n",
    "            for x in find_leaves(i):\n",
    "                yield x\n",
    "    elif isinstance(node, dict):\n",
    "        if node[\"children\"] == []:\n",
    "            yield node\n",
    "        else:\n",
    "            for j in node[\"children\"]:\n",
    "                for x in find_leaves(j):\n",
    "                    yield x"
   ]
  },
  {
   "cell_type": "code",
   "execution_count": 69,
   "id": "17c56d78-8f16-416d-a84e-5fe888e461ae",
   "metadata": {
    "tags": []
   },
   "outputs": [],
   "source": [
    "leaves = list(find_leaves(fa[\"items\"]))"
   ]
  },
  {
   "cell_type": "code",
   "execution_count": 77,
   "id": "5770ac86-e7c6-457d-9f3e-f33525ac7fba",
   "metadata": {
    "tags": []
   },
   "outputs": [
    {
     "data": {
      "text/html": [
       "<div>\n",
       "<style scoped>\n",
       "    .dataframe tbody tr th:only-of-type {\n",
       "        vertical-align: middle;\n",
       "    }\n",
       "\n",
       "    .dataframe tbody tr th {\n",
       "        vertical-align: top;\n",
       "    }\n",
       "\n",
       "    .dataframe thead th {\n",
       "        text-align: right;\n",
       "    }\n",
       "</style>\n",
       "<table border=\"1\" class=\"dataframe\">\n",
       "  <thead>\n",
       "    <tr style=\"text-align: right;\">\n",
       "      <th></th>\n",
       "      <th>id</th>\n",
       "      <th>title</th>\n",
       "      <th>description</th>\n",
       "      <th>digitised</th>\n",
       "      <th>first_page</th>\n",
       "      <th>children</th>\n",
       "    </tr>\n",
       "  </thead>\n",
       "  <tbody>\n",
       "    <tr>\n",
       "      <th>0</th>\n",
       "      <td>nla-obj-225228228</td>\n",
       "      <td>From Edward Maitland to Alfred Deakin (Item 1_...</td>\n",
       "      <td></td>\n",
       "      <td>False</td>\n",
       "      <td></td>\n",
       "      <td>[]</td>\n",
       "    </tr>\n",
       "    <tr>\n",
       "      <th>1</th>\n",
       "      <td>nla-obj-225228253</td>\n",
       "      <td>From Edward Maitland to Alfred Deakin (Item 1_...</td>\n",
       "      <td></td>\n",
       "      <td>False</td>\n",
       "      <td></td>\n",
       "      <td>[]</td>\n",
       "    </tr>\n",
       "    <tr>\n",
       "      <th>2</th>\n",
       "      <td>nla-obj-225228289</td>\n",
       "      <td>Correspondence; author(s) include Mary Balmain...</td>\n",
       "      <td></td>\n",
       "      <td>False</td>\n",
       "      <td></td>\n",
       "      <td>[]</td>\n",
       "    </tr>\n",
       "    <tr>\n",
       "      <th>3</th>\n",
       "      <td>nla-obj-225228312</td>\n",
       "      <td>From Joseph W. Evans to Alfred Deakin (Item 1_7)</td>\n",
       "      <td></td>\n",
       "      <td>False</td>\n",
       "      <td></td>\n",
       "      <td>[]</td>\n",
       "    </tr>\n",
       "    <tr>\n",
       "      <th>4</th>\n",
       "      <td>nla-obj-225228348</td>\n",
       "      <td>From Sir Graham Berry to Alfred Deakin (Item 1_8)</td>\n",
       "      <td></td>\n",
       "      <td>False</td>\n",
       "      <td></td>\n",
       "      <td>[]</td>\n",
       "    </tr>\n",
       "  </tbody>\n",
       "</table>\n",
       "</div>"
      ],
      "text/plain": [
       "                  id                                              title  \\\n",
       "0  nla-obj-225228228  From Edward Maitland to Alfred Deakin (Item 1_...   \n",
       "1  nla-obj-225228253  From Edward Maitland to Alfred Deakin (Item 1_...   \n",
       "2  nla-obj-225228289  Correspondence; author(s) include Mary Balmain...   \n",
       "3  nla-obj-225228312   From Joseph W. Evans to Alfred Deakin (Item 1_7)   \n",
       "4  nla-obj-225228348  From Sir Graham Berry to Alfred Deakin (Item 1_8)   \n",
       "\n",
       "  description  digitised first_page children  \n",
       "0                  False                  []  \n",
       "1                  False                  []  \n",
       "2                  False                  []  \n",
       "3                  False                  []  \n",
       "4                  False                  []  "
      ]
     },
     "execution_count": 77,
     "metadata": {},
     "output_type": "execute_result"
    }
   ],
   "source": [
    "df_leaves = pd.DataFrame(leaves)\n",
    "df_leaves.head()"
   ]
  },
  {
   "cell_type": "code",
   "execution_count": 79,
   "id": "8fd89587-9fa1-4e74-b602-120f02cb1174",
   "metadata": {
    "tags": [
     "nbval-skip"
    ]
   },
   "outputs": [],
   "source": [
    "df_leaves.to_csv(f\"finding-aid-{fa_id}-leaves.csv\", index=False)"
   ]
  },
  {
   "cell_type": "markdown",
   "id": "7fc9352b-91f1-4cc2-a982-c4e6af1ef3ed",
   "metadata": {},
   "source": [
    "## Paths to leaves\n",
    "\n",
    "Because of the hierarchical structure of the finding aids, some descriptive information relating to individual leaves is included in the titles of its ancestors. To capture this context, we can save the paths followed to reach each leaf."
   ]
  },
  {
   "cell_type": "code",
   "execution_count": 71,
   "id": "19e4ed68-8207-404a-83fa-78d2e17fe8c4",
   "metadata": {
    "tags": []
   },
   "outputs": [],
   "source": [
    "def get_paths(node, paths=[], titles=[]):\n",
    "    paths = []\n",
    "    titles.append(node[\"title\"])\n",
    "    if not node[\"children\"]:\n",
    "        context = titles.copy()\n",
    "        # Remove the item's own title\n",
    "        context.pop()\n",
    "        # Reset title list\n",
    "        titles = []\n",
    "        paths.append(\n",
    "            {\"id\": node[\"id\"], \"title\": node[\"title\"], \"context\": \" / \".join(context)}\n",
    "        )\n",
    "    else:\n",
    "        for i in node[\"children\"]:\n",
    "            paths.extend(get_paths(i, paths, titles))\n",
    "            # Go back up a level\n",
    "            titles.pop()\n",
    "    return paths"
   ]
  },
  {
   "cell_type": "code",
   "execution_count": 72,
   "id": "c9eb0197-a751-477a-b6a9-d493ee40fd4c",
   "metadata": {
    "tags": []
   },
   "outputs": [],
   "source": [
    "paths = []\n",
    "for series in fa[\"items\"]:\n",
    "    # print(series)\n",
    "    paths.extend(get_paths(series, [], []))"
   ]
  },
  {
   "cell_type": "code",
   "execution_count": 73,
   "id": "99a4f631-55f7-4024-9ef3-1966ed715007",
   "metadata": {
    "tags": []
   },
   "outputs": [
    {
     "data": {
      "text/html": [
       "<div>\n",
       "<style scoped>\n",
       "    .dataframe tbody tr th:only-of-type {\n",
       "        vertical-align: middle;\n",
       "    }\n",
       "\n",
       "    .dataframe tbody tr th {\n",
       "        vertical-align: top;\n",
       "    }\n",
       "\n",
       "    .dataframe thead th {\n",
       "        text-align: right;\n",
       "    }\n",
       "</style>\n",
       "<table border=\"1\" class=\"dataframe\">\n",
       "  <thead>\n",
       "    <tr style=\"text-align: right;\">\n",
       "      <th></th>\n",
       "      <th>id</th>\n",
       "      <th>title</th>\n",
       "      <th>context</th>\n",
       "    </tr>\n",
       "  </thead>\n",
       "  <tbody>\n",
       "    <tr>\n",
       "      <th>0</th>\n",
       "      <td>nla-obj-225228228</td>\n",
       "      <td>From Edward Maitland to Alfred Deakin (Item 1_...</td>\n",
       "      <td>Series 1. General correspondence, 1878-1919 / ...</td>\n",
       "    </tr>\n",
       "    <tr>\n",
       "      <th>1</th>\n",
       "      <td>nla-obj-225228253</td>\n",
       "      <td>From Edward Maitland to Alfred Deakin (Item 1_...</td>\n",
       "      <td>Series 1. General correspondence, 1878-1919 / ...</td>\n",
       "    </tr>\n",
       "    <tr>\n",
       "      <th>2</th>\n",
       "      <td>nla-obj-225228289</td>\n",
       "      <td>Correspondence; author(s) include Mary Balmain...</td>\n",
       "      <td>Series 1. General correspondence, 1878-1919 / ...</td>\n",
       "    </tr>\n",
       "    <tr>\n",
       "      <th>3</th>\n",
       "      <td>nla-obj-225228312</td>\n",
       "      <td>From Joseph W. Evans to Alfred Deakin (Item 1_7)</td>\n",
       "      <td>Series 1. General correspondence, 1878-1919 / ...</td>\n",
       "    </tr>\n",
       "    <tr>\n",
       "      <th>4</th>\n",
       "      <td>nla-obj-225228348</td>\n",
       "      <td>From Sir Graham Berry to Alfred Deakin (Item 1_8)</td>\n",
       "      <td>Series 1. General correspondence, 1878-1919 / ...</td>\n",
       "    </tr>\n",
       "  </tbody>\n",
       "</table>\n",
       "</div>"
      ],
      "text/plain": [
       "                  id                                              title  \\\n",
       "0  nla-obj-225228228  From Edward Maitland to Alfred Deakin (Item 1_...   \n",
       "1  nla-obj-225228253  From Edward Maitland to Alfred Deakin (Item 1_...   \n",
       "2  nla-obj-225228289  Correspondence; author(s) include Mary Balmain...   \n",
       "3  nla-obj-225228312   From Joseph W. Evans to Alfred Deakin (Item 1_7)   \n",
       "4  nla-obj-225228348  From Sir Graham Berry to Alfred Deakin (Item 1_8)   \n",
       "\n",
       "                                             context  \n",
       "0  Series 1. General correspondence, 1878-1919 / ...  \n",
       "1  Series 1. General correspondence, 1878-1919 / ...  \n",
       "2  Series 1. General correspondence, 1878-1919 / ...  \n",
       "3  Series 1. General correspondence, 1878-1919 / ...  \n",
       "4  Series 1. General correspondence, 1878-1919 / ...  "
      ]
     },
     "execution_count": 73,
     "metadata": {},
     "output_type": "execute_result"
    }
   ],
   "source": [
    "df_paths = pd.DataFrame(paths)\n",
    "df_paths.head()"
   ]
  },
  {
   "cell_type": "code",
   "execution_count": 76,
   "id": "87d74773-1863-4995-b21a-0f2683eeec8b",
   "metadata": {
    "tags": []
   },
   "outputs": [
    {
     "data": {
      "text/html": [
       "<div>\n",
       "<style scoped>\n",
       "    .dataframe tbody tr th:only-of-type {\n",
       "        vertical-align: middle;\n",
       "    }\n",
       "\n",
       "    .dataframe tbody tr th {\n",
       "        vertical-align: top;\n",
       "    }\n",
       "\n",
       "    .dataframe thead th {\n",
       "        text-align: right;\n",
       "    }\n",
       "</style>\n",
       "<table border=\"1\" class=\"dataframe\">\n",
       "  <thead>\n",
       "    <tr style=\"text-align: right;\">\n",
       "      <th></th>\n",
       "      <th>context</th>\n",
       "    </tr>\n",
       "  </thead>\n",
       "  <tbody>\n",
       "    <tr>\n",
       "      <th>Series 15. Prime Minister, 1901-1923 (bulk 1903-1910) / Subseries 15_1. General correspondence, 1903-1910 / Subseries 15_1_1. Congratulatory letters, 1903</th>\n",
       "      <td>287</td>\n",
       "    </tr>\n",
       "    <tr>\n",
       "      <th>Series 15. Prime Minister, 1901-1923 (bulk 1903-1910) / Subseries 15_3. Imperial Conference, London, 1907 / Subseries 15_3_1. Correspondence, 1907</th>\n",
       "      <td>170</td>\n",
       "    </tr>\n",
       "    <tr>\n",
       "      <th>Series 18. Post-retirement, 1913-1925 / Subseries 18_1. Correspondence, 1913</th>\n",
       "      <td>129</td>\n",
       "    </tr>\n",
       "    <tr>\n",
       "      <th>Series 15. Prime Minister, 1901-1923 (bulk 1903-1910) / Subseries 15_1. General correspondence, 1903-1910 / Subseries 15_1_4. Correspondence, 1906</th>\n",
       "      <td>128</td>\n",
       "    </tr>\n",
       "    <tr>\n",
       "      <th>Series 11. Federation delegate, 1884-1944 (bulk 1887-1900) / Subseries 11_13. London, 1900-1907 / Subseries 11_13_1. Correspondence, 1900-1907</th>\n",
       "      <td>118</td>\n",
       "    </tr>\n",
       "    <tr>\n",
       "      <th>Series 16. Leader of the Opposition, 1902-1933 / Subseries 16_1. Correspondence, 1902-1913 / Subseries 16_1_2. Correspondence, 1904</th>\n",
       "      <td>114</td>\n",
       "    </tr>\n",
       "    <tr>\n",
       "      <th>Series 1. General correspondence, 1878-1919 / Subseries 1_22. Correspondence, January-June 1908</th>\n",
       "      <td>107</td>\n",
       "    </tr>\n",
       "    <tr>\n",
       "      <th>Series 1. General correspondence, 1878-1919 / Subseries 1_23. Correspondence, July-December 1908</th>\n",
       "      <td>106</td>\n",
       "    </tr>\n",
       "    <tr>\n",
       "      <th>Series 16. Leader of the Opposition, 1902-1933 / Subseries 16_1. Correspondence, 1902-1913 / Subseries 16_1_3. Correspondence, 1905</th>\n",
       "      <td>102</td>\n",
       "    </tr>\n",
       "    <tr>\n",
       "      <th>Series 1. General correspondence, 1878-1919 / Subseries 1_15. Correspondence, 1904</th>\n",
       "      <td>94</td>\n",
       "    </tr>\n",
       "  </tbody>\n",
       "</table>\n",
       "</div>"
      ],
      "text/plain": [
       "                                                    context\n",
       "Series 15. Prime Minister, 1901-1923 (bulk 1903...      287\n",
       "Series 15. Prime Minister, 1901-1923 (bulk 1903...      170\n",
       "Series 18. Post-retirement, 1913-1925 / Subseri...      129\n",
       "Series 15. Prime Minister, 1901-1923 (bulk 1903...      128\n",
       "Series 11. Federation delegate, 1884-1944 (bulk...      118\n",
       "Series 16. Leader of the Opposition, 1902-1933 ...      114\n",
       "Series 1. General correspondence, 1878-1919 / S...      107\n",
       "Series 1. General correspondence, 1878-1919 / S...      106\n",
       "Series 16. Leader of the Opposition, 1902-1933 ...      102\n",
       "Series 1. General correspondence, 1878-1919 / S...       94"
      ]
     },
     "execution_count": 76,
     "metadata": {},
     "output_type": "execute_result"
    }
   ],
   "source": [
    "df_paths[\"context\"].value_counts().to_frame()[:10]"
   ]
  },
  {
   "cell_type": "code",
   "execution_count": 80,
   "id": "4d5c0a85-a902-457a-9746-a809aa287617",
   "metadata": {
    "tags": [
     "nbval-skip"
    ]
   },
   "outputs": [],
   "source": [
    "df_paths.to_csv(f\"finding-aid-{fa_id}-paths.csv\", index=False)"
   ]
  },
  {
   "cell_type": "markdown",
   "id": "1b5863e1-3c90-4dac-a6ae-88feb6d5eb02",
   "metadata": {},
   "source": [
    "----\n",
    "\n",
    "Created by [Tim Sherratt](https://timsherratt.org/) for the [GLAM Workbench](https://glam-workbench.net/). Support this project by becoming a [GitHub sponsor](https://github.com/sponsors/wragge)."
   ]
  }
 ],
 "metadata": {
  "kernelspec": {
   "display_name": "Python 3 (ipykernel)",
   "language": "python",
   "name": "python3"
  },
  "language_info": {
   "codemirror_mode": {
    "name": "ipython",
    "version": 3
   },
   "file_extension": ".py",
   "mimetype": "text/x-python",
   "name": "python",
   "nbconvert_exporter": "python",
   "pygments_lexer": "ipython3",
   "version": "3.10.2"
  }
 },
 "nbformat": 4,
 "nbformat_minor": 5
}
