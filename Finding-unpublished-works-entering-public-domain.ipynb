{
 "cells": [
  {
   "cell_type": "markdown",
   "metadata": {},
   "source": [
    "# Finding unpublished works that might be entering the public domain on 1 January 2019\n",
    "\n",
    "Changes to Australian copyright legislation mean that many unpublished resources will be entering the public domain on 1 January 2019. This notebook attempts to harvest the details of some of these resources from Trove.\n",
    "\n",
    "As with most things involving copyright, there's no real way to be certain what will be entering the public domain. The main problem is that if there's no known author then the copyright period depends on if and when the work was 'made public'. Add to that general issues around the accuracy and completeness of the metadata and all I can really do is create a list of *some* of the things which could *potentially* be entering the public domain based on the available metadata.\n",
    "\n",
    "The basic methodology is:\n",
    "\n",
    "* Search in Trove's 'Diaries, letters, archives' zone for ['Unpublished' Australian materials](https://trove.nla.gov.au/collection/result?l-format=Unpublished&q=&l-australian=y)\n",
    "* For each record check to see if there are any listed creators.\n",
    "* If there are creators, look to see if they have a death date and if that date is before 1949\n",
    "* If all creators died before 1949 then save the item metadata\n",
    "* If there are no creators, look to see if the creation date of the item is before 1949, if so save the metadata\n",
    "\n",
    "If you just want the data, here's a [CSV file you can download](unpublished_works_entering_pd_20181006.csv). Look below for a preview.\n",
    "\n",
    "If you want to play with the data a bit, [here's another notebook](Exploring-unpublished-works-entering-public-domain.ipynb) with a few ideas.\n",
    "\n",
    "For more information on the changes see the NSLA guide to [Preparing for copyright term changes in 2019](https://www.nsla.org.au/sites/default/files/documents/nsla.copyright-preparing-changes-2019.pdf)."
   ]
  },
  {
   "cell_type": "code",
   "execution_count": 9,
   "metadata": {},
   "outputs": [],
   "source": [
    "import requests\n",
    "import re\n",
    "from tqdm import tqdm\n",
    "import time\n",
    "import pandas as pd\n",
    "import datetime\n",
    "from IPython.display import display, HTML\n",
    "\n",
    "from requests.adapters import HTTPAdapter\n",
    "from requests.packages.urllib3.util.retry import Retry\n",
    "\n",
    "sess = requests.Session()\n",
    "retries = Retry(\n",
    "    total=10,\n",
    "    backoff_factor=0.2,\n",
    "    status_forcelist=[500, 502, 503, 504]\n",
    "    )\n",
    "sess.mount('http://', HTTPAdapter(max_retries=retries))\n",
    "sess.mount('https://', HTTPAdapter(max_retries=retries))"
   ]
  },
  {
   "cell_type": "markdown",
   "metadata": {},
   "source": [
    "## Harvest the data"
   ]
  },
  {
   "cell_type": "code",
   "execution_count": 50,
   "metadata": {},
   "outputs": [],
   "source": [
    "api_url = 'http://api.trove.nla.gov.au/v2/result'\n",
    "params = {\n",
    "    'q': ' ',\n",
    "    'zone': 'collection',\n",
    "    'encoding': 'json',\n",
    "    'l-format': 'Unpublished',\n",
    "    'l-australian': 'y',\n",
    "    'include': 'holdings',\n",
    "    'key': 'INSERT YOUR API KEY HERE',\n",
    "    'n': '100'\n",
    "}"
   ]
  },
  {
   "cell_type": "code",
   "execution_count": 51,
   "metadata": {},
   "outputs": [
    {
     "name": "stdout",
     "output_type": "stream",
     "text": [
      "246136\n"
     ]
    }
   ],
   "source": [
    "# How many things are we processing?\n",
    "response = sess.get(api_url, params = params)\n",
    "data = response.json()\n",
    "total = int(data['response']['zone'][0]['records']['total'])\n",
    "print(total)"
   ]
  },
  {
   "cell_type": "code",
   "execution_count": 52,
   "metadata": {},
   "outputs": [],
   "source": [
    "def check_creators(creators):\n",
    "    '''\n",
    "    Make sure all creators have a death date before 1949.\n",
    "    '''\n",
    "    opening = False\n",
    "    count = 0\n",
    "    for creator in creators:\n",
    "        year = get_latest_year(creator)\n",
    "        if year and int(year) < 1949:\n",
    "            count += 1\n",
    "    if len(creators) == count:\n",
    "        opening = True\n",
    "    return opening\n",
    "\n",
    "\n",
    "def check_date(issued):\n",
    "    '''\n",
    "    Check if the latest issued date is before 1949.\n",
    "    '''\n",
    "    opening = False\n",
    "    year = get_latest_year(issued)\n",
    "    if year and int(year) < 1949:\n",
    "        opening = True\n",
    "    return opening\n",
    "\n",
    "\n",
    "def get_latest_year(value):\n",
    "    '''\n",
    "    Get a year from the end of a string.\n",
    "    '''\n",
    "    try:\n",
    "        year = re.search(r'\\b(\\d{4})$', value).group(1)\n",
    "    except (AttributeError, TypeError):\n",
    "        year = None\n",
    "    return year\n",
    "        "
   ]
  },
  {
   "cell_type": "code",
   "execution_count": 54,
   "metadata": {},
   "outputs": [
    {
     "name": "stderr",
     "output_type": "stream",
     "text": [
      "246200it [1:10:47, 55.30it/s]                            \n"
     ]
    }
   ],
   "source": [
    "items = []\n",
    "s = '*'\n",
    "\n",
    "with tqdm(total=total) as pbar:\n",
    "    while s:\n",
    "        params['s'] = s\n",
    "        response = sess.get(api_url, params=params)\n",
    "        # print(response.url)\n",
    "        data = response.json()\n",
    "        for record in data['response']['zone'][0]['records']['work']:\n",
    "            opening = False\n",
    "            creators = record.get('contributor')\n",
    "            issued = record.get('issued')\n",
    "            if creators:\n",
    "                opening = check_creators(creators)\n",
    "            elif issued:\n",
    "                opening = check_date(str(issued))\n",
    "            if opening:\n",
    "                try:\n",
    "                    creator = ' | '.join(creators)\n",
    "                except TypeError:\n",
    "                    creator = creators\n",
    "                try:\n",
    "                    nuc = record['holding'][0]['nuc']\n",
    "                except KeyError:\n",
    "                    nuc = None\n",
    "                item = {\n",
    "                    'id': record['id'],\n",
    "                    'title': record['title'],\n",
    "                    'creator': creator,\n",
    "                    'date': issued,\n",
    "                    'trove_url': record['troveUrl'],\n",
    "                    'nuc': nuc\n",
    "                }\n",
    "                items.append(item)\n",
    "        try:\n",
    "            s = data['response']['zone'][0]['records']['nextStart']\n",
    "        except KeyError:\n",
    "            s = None\n",
    "        pbar.update(100)\n",
    "        time.sleep(0.5)\n",
    "        \n",
    "    "
   ]
  },
  {
   "cell_type": "markdown",
   "metadata": {},
   "source": [
    "## Convert the results to a dataframe and have a look inside"
   ]
  },
  {
   "cell_type": "code",
   "execution_count": 55,
   "metadata": {},
   "outputs": [
    {
     "data": {
      "text/html": [
       "<div>\n",
       "<style scoped>\n",
       "    .dataframe tbody tr th:only-of-type {\n",
       "        vertical-align: middle;\n",
       "    }\n",
       "\n",
       "    .dataframe tbody tr th {\n",
       "        vertical-align: top;\n",
       "    }\n",
       "\n",
       "    .dataframe thead th {\n",
       "        text-align: right;\n",
       "    }\n",
       "</style>\n",
       "<table border=\"1\" class=\"dataframe\">\n",
       "  <thead>\n",
       "    <tr style=\"text-align: right;\">\n",
       "      <th></th>\n",
       "      <th>creator</th>\n",
       "      <th>date</th>\n",
       "      <th>id</th>\n",
       "      <th>nuc</th>\n",
       "      <th>title</th>\n",
       "      <th>trove_url</th>\n",
       "    </tr>\n",
       "  </thead>\n",
       "  <tbody>\n",
       "    <tr>\n",
       "      <th>0</th>\n",
       "      <td>Kelly, F. S. (Frederick Septimus), 1881-1916</td>\n",
       "      <td>1893-1926</td>\n",
       "      <td>10201266</td>\n",
       "      <td>ANL</td>\n",
       "      <td>Music manuscripts</td>\n",
       "      <td>https://trove.nla.gov.au/work/10201266</td>\n",
       "    </tr>\n",
       "    <tr>\n",
       "      <th>1</th>\n",
       "      <td>None</td>\n",
       "      <td>1863-1925</td>\n",
       "      <td>10544890</td>\n",
       "      <td>ANL</td>\n",
       "      <td>Collection of promissory notes from remote are...</td>\n",
       "      <td>https://trove.nla.gov.au/work/10544890</td>\n",
       "    </tr>\n",
       "    <tr>\n",
       "      <th>2</th>\n",
       "      <td>Gugeri, Peter Anthony, 1845-1930</td>\n",
       "      <td>1863-1910</td>\n",
       "      <td>14022030</td>\n",
       "      <td>WLB</td>\n",
       "      <td>Gugeri family papers</td>\n",
       "      <td>https://trove.nla.gov.au/work/14022030</td>\n",
       "    </tr>\n",
       "    <tr>\n",
       "      <th>3</th>\n",
       "      <td>Kruse, Johann Secundus, 1859-1927</td>\n",
       "      <td>1870-1927</td>\n",
       "      <td>14952244</td>\n",
       "      <td>ANL</td>\n",
       "      <td>Papers of Johann Kruse</td>\n",
       "      <td>https://trove.nla.gov.au/work/14952244</td>\n",
       "    </tr>\n",
       "    <tr>\n",
       "      <th>4</th>\n",
       "      <td>Freycinet, Rose Marie de, d. 1832</td>\n",
       "      <td>1802-1927</td>\n",
       "      <td>152218670</td>\n",
       "      <td>ANL</td>\n",
       "      <td>Documents relating to Louis and Rose de Freycinet</td>\n",
       "      <td>https://trove.nla.gov.au/work/152218670</td>\n",
       "    </tr>\n",
       "  </tbody>\n",
       "</table>\n",
       "</div>"
      ],
      "text/plain": [
       "                                        creator       date         id  nuc  \\\n",
       "0  Kelly, F. S. (Frederick Septimus), 1881-1916  1893-1926   10201266  ANL   \n",
       "1                                          None  1863-1925   10544890  ANL   \n",
       "2              Gugeri, Peter Anthony, 1845-1930  1863-1910   14022030  WLB   \n",
       "3             Kruse, Johann Secundus, 1859-1927  1870-1927   14952244  ANL   \n",
       "4             Freycinet, Rose Marie de, d. 1832  1802-1927  152218670  ANL   \n",
       "\n",
       "                                               title  \\\n",
       "0                                  Music manuscripts   \n",
       "1  Collection of promissory notes from remote are...   \n",
       "2                               Gugeri family papers   \n",
       "3                             Papers of Johann Kruse   \n",
       "4  Documents relating to Louis and Rose de Freycinet   \n",
       "\n",
       "                                 trove_url  \n",
       "0   https://trove.nla.gov.au/work/10201266  \n",
       "1   https://trove.nla.gov.au/work/10544890  \n",
       "2   https://trove.nla.gov.au/work/14022030  \n",
       "3   https://trove.nla.gov.au/work/14952244  \n",
       "4  https://trove.nla.gov.au/work/152218670  "
      ]
     },
     "execution_count": 55,
     "metadata": {},
     "output_type": "execute_result"
    }
   ],
   "source": [
    "df = pd.DataFrame(items)\n",
    "df.head()"
   ]
  },
  {
   "cell_type": "code",
   "execution_count": 56,
   "metadata": {},
   "outputs": [
    {
     "data": {
      "text/plain": [
       "14743"
      ]
     },
     "execution_count": 56,
     "metadata": {},
     "output_type": "execute_result"
    }
   ],
   "source": [
    "# How many items are there?\n",
    "df.shape[0]"
   ]
  },
  {
   "cell_type": "markdown",
   "metadata": {},
   "source": [
    "## Save the results as a CSV file"
   ]
  },
  {
   "cell_type": "code",
   "execution_count": 57,
   "metadata": {},
   "outputs": [
    {
     "data": {
      "text/html": [
       "<a target=\"_blank\" href=\"unpublished_works_entering_pd_20181006.csv\">Download CSV file</a>"
      ],
      "text/plain": [
       "<IPython.core.display.HTML object>"
      ]
     },
     "metadata": {},
     "output_type": "display_data"
    }
   ],
   "source": [
    "date_str = datetime.datetime.now().strftime('%Y%m%d')\n",
    "csv_file = 'unpublished_works_entering_pd_{}.csv'.format(date_str)\n",
    "df.to_csv(csv_file, index=False)\n",
    "# Make a download link\n",
    "display(HTML('<a target=\"_blank\" href=\"{}\">Download CSV file</a>'.format(csv_file)))"
   ]
  },
  {
   "cell_type": "code",
   "execution_count": null,
   "metadata": {},
   "outputs": [],
   "source": []
  }
 ],
 "metadata": {
  "kernelspec": {
   "display_name": "Python 3",
   "language": "python",
   "name": "python3"
  },
  "language_info": {
   "codemirror_mode": {
    "name": "ipython",
    "version": 3
   },
   "file_extension": ".py",
   "mimetype": "text/x-python",
   "name": "python",
   "nbconvert_exporter": "python",
   "pygments_lexer": "ipython3",
   "version": "3.6.5"
  }
 },
 "nbformat": 4,
 "nbformat_minor": 2
}
