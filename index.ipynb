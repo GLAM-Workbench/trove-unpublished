{
 "cells": [
  {
   "cell_type": "markdown",
   "id": "6c81f256",
   "metadata": {},
   "source": [
    "# Trove diaries, letters and archives\n",
    "\n",
    "Current version: [v1.0.0](https://github.com/GLAM-Workbench/trove-unpublished/releases/tag/v1.0.0)\n",
    "\n",
    "Experiments and examples relating to Trove's 'Diaries, letters, and archives' zone\n",
    "\n",
    "See the [Trove unpublished section](https://glam-workbench.net/trove-unpublished/) of the GLAM Workbench for more details.\n",
    "\n",
    "Notebook topics\n",
    "\n",
    "* [Finding unpublished works that might be entering the public domain on 1 January 2019](Finding-unpublished-works-entering-public-domain.ipynb)\n",
    "* [Exploring unpublished works that might be entering the public domain on 1 January 2019](Exploring-unpublished-works-entering-public-domain.ipynb)\n",
    "* [Find urls of digitised finding aids](find-finding-aids.ipynb) – harvest urls of digitised NLA finding aids\n",
    "* [Collect information about digitised finding aids](get-info-finding-aids.ipynb) – work through the list of urls, extracting additional information for each finding aid\n",
    "* [Convert a HTML finding aid to JSON](convert-fa-to-json.ipynb) – scrapes a HTML finding aid to extract basic details and hierarchical structure\n",
    "\n",
    "Datasets:\n",
    "\n",
    "* Unpublished works that might be entering the public domain on 1 January 2019 &ndash; [Download CSV file  (1.8mb)](https://github.com/GLAM-Workbench/trove-unpublished/blob/master/unpublished_works_entering_pd_20181006.csv)\n",
    "* [`finding-aids.csv`](https://github.com/GLAM-Workbench/nla-finding-aids-data/blob/main/finding-aids.csv) – list of urls for NLA digitised finding aids \n",
    "* [`finding-aids-totals.csv`](https://github.com/GLAM-Workbench/nla-finding-aids-data/blob/main/finding-aids-totals.csv) – summary information describing NLA digitised finding aids"
   ]
  },
  {
   "cell_type": "markdown",
   "id": "f075cd87",
   "metadata": {},
   "source": [
    "## Cite as\n",
    "\n",
    "See the GLAM Workbench or [Zenodo](https://doi.org/10.5281/zenodo.3549343) for up-to-date citation details.\n",
    "\n",
    "----\n",
    "\n",
    "This repository is part of the [GLAM Workbench](https://glam-workbench.net/). "
   ]
  }
 ],
 "metadata": {
  "jupytext": {
   "cell_metadata_filter": "-all"
  },
  "kernelspec": {
   "display_name": "Python 3 (ipykernel)",
   "language": "python",
   "name": "python3"
  }
 },
 "nbformat": 4,
 "nbformat_minor": 5
}
