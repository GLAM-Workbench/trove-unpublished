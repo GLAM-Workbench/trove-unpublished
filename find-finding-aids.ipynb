{
 "cells": [
  {
   "cell_type": "markdown",
   "id": "da5cc5d0-9355-40db-8ec8-79b93d25733e",
   "metadata": {},
   "source": [
    "# Find urls of digitised finding aids\n",
    "\n",
    "The 'Diaries, Letters, and Archives' category of Trove (aka the 'collection' zone using the Trove API) includes a mix of digitised items, digitised finding aids, and metadata records for an assortment of collections and series. Unfortunately, there are no facets to help separate the different types of content, and so the finding aids can get a bit swamped. For example, you might think that searching for `findingaid \"nla.obj\"` would help identify the NLA's digitised finding aids, but this search returns 153,345 results, most of which are items within finding aids, rather than the finding aids themselves. I've yet to find a search in Trove that can reliably isolate the digitised finding aids. ([Searching for 'finding aid'](https://catalogue.nla.gov.au/Search/Home?lookfor=findingaid&type=all&limit%5B%5D=&submit=Find&limit%5B%5D=format%3AManuscript) in the manuscripts section of the NLA catalogue gets close.) Nor can I find a complete list of finding aids elsewhere on the NLA site. So how can we find the finding aids?\n",
    "\n",
    "This notebook uses the Trove API to harvest finding aid urls from a search in the `collection` zone. The strategy goes something like this:\n",
    "\n",
    "* search for all records in the `collection` zone containing \"nla.obj\" – this limits results to records containing links to Trove's delivery system for digitised items\n",
    "* loop through the `identifier` field of each record, saving urls that contain the text 'findingaid'\n",
    "* the resulting list of urls will contain many duplicates, as item records contain links to finding aids, but we can use Pandas to drop the duplicates and create a set of unique urls\n",
    "\n",
    "The result is a list of finding aid urls. Additional information about each finding aid is extracted in [another notebook](get-info-finding-aids.ipynb)."
   ]
  },
  {
   "cell_type": "markdown",
   "id": "8a1261dd-3503-4530-8f48-aa6628a140aa",
   "metadata": {},
   "source": [
    "## Set things up"
   ]
  },
  {
   "cell_type": "code",
   "execution_count": 80,
   "id": "c1540f5f-06e3-4134-97ee-c16cf3361957",
   "metadata": {
    "tags": []
   },
   "outputs": [],
   "source": [
    "import os\n",
    "import re\n",
    "import time\n",
    "\n",
    "import pandas as pd\n",
    "import requests_cache\n",
    "from requests.adapters import HTTPAdapter\n",
    "from requests.packages.urllib3.util.retry import Retry\n",
    "from tqdm.auto import tqdm\n",
    "\n",
    "s = requests_cache.CachedSession()\n",
    "retries = Retry(total=10, backoff_factor=0.2, status_forcelist=[500, 502, 503, 504])\n",
    "s.mount(\"http://\", HTTPAdapter(max_retries=retries))\n",
    "s.mount(\"https://\", HTTPAdapter(max_retries=retries))"
   ]
  },
  {
   "cell_type": "code",
   "execution_count": 81,
   "id": "88dd50e0-1858-48aa-90eb-b7070fe7b976",
   "metadata": {
    "tags": []
   },
   "outputs": [],
   "source": [
    "%%capture\n",
    "# Load variables from the .env file if it exists\n",
    "# Use %%capture to suppress messages\n",
    "%load_ext dotenv\n",
    "%dotenv"
   ]
  },
  {
   "cell_type": "markdown",
   "id": "9f69886b-a058-4f70-b004-4a23c0bfbec0",
   "metadata": {},
   "source": [
    "Insert your Trove API key where indicated below."
   ]
  },
  {
   "cell_type": "code",
   "execution_count": 82,
   "id": "24ef2d82-fc0c-4cc2-910f-1ac7c657d7b4",
   "metadata": {
    "tags": []
   },
   "outputs": [],
   "source": [
    "# Insert your Trove API key\n",
    "API_KEY = \"YOUR API KEY\"\n",
    "\n",
    "if os.getenv(\"TROVE_API_KEY\"):\n",
    "    API_KEY = os.getenv(\"TROVE_API_KEY\")"
   ]
  },
  {
   "cell_type": "code",
   "execution_count": 83,
   "id": "2c0cfa8c-d529-4ec1-9c28-8e9777f09392",
   "metadata": {
    "tags": []
   },
   "outputs": [],
   "source": [
    "API_URL = \"http://api.trove.nla.gov.au/v2/result\"\n",
    "\n",
    "# Define the API search parameters we'll be using\n",
    "params = {\n",
    "    \"q\": '\"nla.obj\"',\n",
    "    \"zone\": \"collection\",\n",
    "    \"include\": \"links,workversions\",\n",
    "    \"reclevel\": \"full\",\n",
    "    \"encoding\": \"json\",\n",
    "    \"n\": 100,\n",
    "    \"bulkHarvest\": \"true\",\n",
    "    \"key\": API_KEY,\n",
    "}"
   ]
  },
  {
   "cell_type": "markdown",
   "id": "a1d4e29f-8c21-43fc-9601-041987293acd",
   "metadata": {},
   "source": [
    "## Define some functions"
   ]
  },
  {
   "cell_type": "code",
   "execution_count": 98,
   "id": "cb3c766c-295d-43bd-8e37-a1ea0d860456",
   "metadata": {
    "tags": []
   },
   "outputs": [],
   "source": [
    "def get_total(params):\n",
    "    \"\"\"\n",
    "    Get the total number of results in a search using the supplied params.\n",
    "    \"\"\"\n",
    "    response = s.get(API_URL, params=params)\n",
    "    data = response.json()\n",
    "    total = int(data[\"response\"][\"zone\"][0][\"records\"][\"total\"])\n",
    "    return total\n",
    "\n",
    "\n",
    "def get_fa_link(identifiers):\n",
    "    \"\"\"\n",
    "    Loop through the links in the `identifier` field, returning those that look like finding aids.\n",
    "    \"\"\"\n",
    "    for ident in identifiers:\n",
    "        if \"findingaid\" in ident[\"value\"]:\n",
    "            # Use re to trim off any search parameters appended to the fa url\n",
    "            return re.search(r\".*?findingaid\", ident[\"value\"]).group(0)\n",
    "\n",
    "\n",
    "def harvest(max_records=None):\n",
    "    \"\"\"\n",
    "    Search for all items containing \"nla.obj\" in the 'collection' zone and\n",
    "    save links to finding aids.\n",
    "    \"\"\"\n",
    "    finding_aids = []\n",
    "    total = get_total(params)\n",
    "    start = \"*\"\n",
    "    with tqdm(total=total) as pbar:\n",
    "        while start:\n",
    "            params[\"s\"] = start\n",
    "            response = s.get(API_URL, params=params)\n",
    "            data = response.json()\n",
    "            for record in data[\"response\"][\"zone\"][0][\"records\"][\"work\"]:\n",
    "                try:\n",
    "                    fa_link = get_fa_link(record[\"identifier\"])\n",
    "                except KeyError:\n",
    "                    # No identifier field -- ignore\n",
    "                    pass\n",
    "                else:\n",
    "                    if fa_link:\n",
    "                        # Standardise urls\n",
    "                        fa_link = fa_link.replace(\"https\", \"http\")\n",
    "                        fa_link = fa_link.replace(\"http://http\", \"http\")\n",
    "                        # Add url\n",
    "                        finding_aids.append(fa_link)\n",
    "            if not response.from_cache:\n",
    "                time.sleep(0.2)\n",
    "            # Try to get the nextStart value\n",
    "            try:\n",
    "                start = data[\"response\"][\"zone\"][0][\"records\"][\"nextStart\"]\n",
    "            # If there's no nextStart then the harvest is finished\n",
    "            except KeyError:\n",
    "                start = None\n",
    "            pbar.update(100)\n",
    "            # Stop iteration once max number of records inspected (mainly for testing)\n",
    "            if max_records and pbar.n >= max_records:\n",
    "                break\n",
    "    return finding_aids"
   ]
  },
  {
   "cell_type": "markdown",
   "id": "1cd52e47-a6b1-40b0-b6f2-9f294466d7fd",
   "metadata": {},
   "source": [
    "## Get the data\n",
    "\n",
    "Use the `harvest` function to get a list of finding aid urls."
   ]
  },
  {
   "cell_type": "code",
   "execution_count": null,
   "id": "27a62850-f3c5-4f11-b210-844ea0cb42a5",
   "metadata": {
    "tags": [
     "nbval-skip"
    ]
   },
   "outputs": [],
   "source": [
    "finding_aids = harvest()"
   ]
  },
  {
   "cell_type": "markdown",
   "id": "dabd64fb-3fbb-4a7e-a748-e59765905676",
   "metadata": {},
   "source": [
    "Convert the list of urls into a dataframe."
   ]
  },
  {
   "cell_type": "code",
   "execution_count": 72,
   "id": "05747190-4b4e-4431-9835-56e65c67ed16",
   "metadata": {
    "tags": [
     "nbval-skip"
    ]
   },
   "outputs": [],
   "source": [
    "df = pd.DataFrame(finding_aids, columns=[\"url\"])"
   ]
  },
  {
   "cell_type": "markdown",
   "id": "262b2981-a229-4c67-9651-73c298cb003e",
   "metadata": {},
   "source": [
    "How many urls are there?"
   ]
  },
  {
   "cell_type": "code",
   "execution_count": 73,
   "id": "493f3b13-ef41-427d-8309-d1295c7e1ea5",
   "metadata": {
    "tags": [
     "nbval-skip"
    ]
   },
   "outputs": [
    {
     "data": {
      "text/plain": [
       "(146192, 1)"
      ]
     },
     "execution_count": 73,
     "metadata": {},
     "output_type": "execute_result"
    }
   ],
   "source": [
    "df.shape"
   ]
  },
  {
   "cell_type": "markdown",
   "id": "45e655ad-3e10-49d0-ba50-379cd1c3cd7e",
   "metadata": {},
   "source": [
    "Remove duplicate urls."
   ]
  },
  {
   "cell_type": "code",
   "execution_count": 74,
   "id": "05c8c7c5-fff2-4906-9156-9f3561f064c6",
   "metadata": {
    "tags": [
     "nbval-skip"
    ]
   },
   "outputs": [],
   "source": [
    "df.drop_duplicates(inplace=True)"
   ]
  },
  {
   "cell_type": "markdown",
   "id": "f7c4c3cb-4e73-417f-8044-c1a67bc9199b",
   "metadata": {},
   "source": [
    "How many are there now?"
   ]
  },
  {
   "cell_type": "code",
   "execution_count": 75,
   "id": "7ed905ea-66e9-4131-b9ed-cc33b3e2d41d",
   "metadata": {
    "tags": [
     "nbval-skip"
    ]
   },
   "outputs": [
    {
     "data": {
      "text/plain": [
       "(2337, 1)"
      ]
     },
     "execution_count": 75,
     "metadata": {},
     "output_type": "execute_result"
    }
   ],
   "source": [
    "df.shape"
   ]
  },
  {
   "cell_type": "markdown",
   "id": "b97bb4f0-4654-4c62-9e7d-8664996b0dd4",
   "metadata": {},
   "source": [
    "Let's display a few of the urls."
   ]
  },
  {
   "cell_type": "code",
   "execution_count": 100,
   "id": "d729ddb1-6091-4762-ba8b-9cade24f0b88",
   "metadata": {
    "tags": [
     "nbval-skip"
    ]
   },
   "outputs": [
    {
     "data": {
      "text/plain": [
       "0    http://nla.gov.au/nla.obj-240918828/findingaid\n",
       "1    http://nla.gov.au/nla.obj-241093353/findingaid\n",
       "2    http://nla.gov.au/nla.obj-241096550/findingaid\n",
       "3    http://nla.gov.au/nla.obj-252896402/findingaid\n",
       "4    http://nla.gov.au/nla.obj-241098568/findingaid\n",
       "5    http://nla.gov.au/nla.obj-294499964/findingaid\n",
       "6    http://nla.gov.au/nla.obj-299897373/findingaid\n",
       "7    http://nla.gov.au/nla.obj-241101566/findingaid\n",
       "8    http://nla.gov.au/nla.obj-324174783/findingaid\n",
       "9    http://nla.gov.au/nla.obj-241426022/findingaid\n",
       "Name: url, dtype: object"
      ]
     },
     "execution_count": 100,
     "metadata": {},
     "output_type": "execute_result"
    }
   ],
   "source": [
    "# Display a few urls\n",
    "df[:10][\"url\"]"
   ]
  },
  {
   "cell_type": "markdown",
   "id": "74ab00e7-3ba5-4bcc-a1d8-d50bab3a6e10",
   "metadata": {},
   "source": [
    "Save the urls to a CSV file."
   ]
  },
  {
   "cell_type": "code",
   "execution_count": 76,
   "id": "cb7c6ccc-5bfe-4ae3-a45e-b7bfc616b1d9",
   "metadata": {
    "tags": [
     "nbval-skip"
    ]
   },
   "outputs": [],
   "source": [
    "df.to_csv(\"finding-aids.csv\", index=False)"
   ]
  },
  {
   "cell_type": "code",
   "execution_count": null,
   "id": "88eda5ee-2c6f-4469-b035-1489e1f87358",
   "metadata": {
    "tags": []
   },
   "outputs": [],
   "source": [
    "# Ignore -- this is just used for testing in development\n",
    "if os.getenv(\"GW_STATUS\") == \"dev\":\n",
    "    fa_test = harvest(200)\n",
    "    df_test = pd.DataFrame(fa_test)\n",
    "    assert not df_test.empty"
   ]
  },
  {
   "cell_type": "markdown",
   "id": "e065c328-9727-43c0-90c5-9ad7544ff706",
   "metadata": {},
   "source": [
    "----\n",
    "\n",
    "Created by [Tim Sherratt](https://timsherratt.org/) for the [GLAM Workbench](https://glam-workbench.net/). Support this project by becoming a [GitHub sponsor](https://github.com/sponsors/wragge)."
   ]
  }
 ],
 "metadata": {
  "kernelspec": {
   "display_name": "Python 3 (ipykernel)",
   "language": "python",
   "name": "python3"
  },
  "language_info": {
   "codemirror_mode": {
    "name": "ipython",
    "version": 3
   },
   "file_extension": ".py",
   "mimetype": "text/x-python",
   "name": "python",
   "nbconvert_exporter": "python",
   "pygments_lexer": "ipython3",
   "version": "3.10.2"
  }
 },
 "nbformat": 4,
 "nbformat_minor": 5
}
