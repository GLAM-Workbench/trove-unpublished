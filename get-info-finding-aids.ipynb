{
 "cells": [
  {
   "cell_type": "markdown",
   "id": "66b2d2cc-319b-42d9-8816-224e6eb62c08",
   "metadata": {},
   "source": [
    "# Collect information about digitised finding aids\n",
    "\n",
    "In [another notebook](find-finding-aids.ipynb) we assembled a list of urls pointing to the NLA's digitised finding aids. In this notebook we'll work through the list of urls, extracting additional information for each finding aid. While I think the finding aids are created and stored as [EAD](https://www.loc.gov/ead/) encoded XML files, they are delivered as HTML. As there's no machine-readable version readily available, we need to try and reassemble the original hierarchical structure by scraping the HTML.\n",
    "\n",
    "This notebook assembles the following data:\n",
    "\n",
    "- summary information for each finding aid, typically including title, collection number, creator, date range, extent, and repository\n",
    "- the number of elements in each finding aid – this includes both containers (like series and boxes) and individual items\n",
    "- the number of items listed in each finding aid – these are elements at the bottom of the hierarchy (so they have no children), they include things like documents and diaries\n",
    "- the number of items digitised – by looking to see whether an item has digital images associated with it, we can find out if it's been digitised\n",
    "- the number of items searchable through Trove – this information isn't scraped from the finding aid, it's found by searching Trove's 'Diaries, Letters, and Archives' for records containing the finding aid's url\n"
   ]
  },
  {
   "cell_type": "markdown",
   "id": "d504d771-5d4c-4999-b411-12d2a596f04b",
   "metadata": {},
   "source": [
    "## Set things up"
   ]
  },
  {
   "cell_type": "code",
   "execution_count": 406,
   "id": "899497ed-14c4-4b27-baa1-675b9ea5aaec",
   "metadata": {
    "tags": []
   },
   "outputs": [],
   "source": [
    "import os\n",
    "import re\n",
    "from copy import deepcopy\n",
    "\n",
    "import pandas as pd\n",
    "import requests_cache\n",
    "from bs4 import BeautifulSoup, NavigableString, Tag\n",
    "from tqdm.auto import tqdm\n",
    "\n",
    "s = requests_cache.CachedSession(timeout=30)"
   ]
  },
  {
   "cell_type": "code",
   "execution_count": 407,
   "id": "13bbbf5d-bc0e-4138-b0de-e227c674b9a8",
   "metadata": {
    "tags": []
   },
   "outputs": [],
   "source": [
    "%%capture\n",
    "# Load variables from the .env file if it exists\n",
    "# Use %%capture to suppress messages\n",
    "%load_ext dotenv\n",
    "%dotenv"
   ]
  },
  {
   "cell_type": "markdown",
   "id": "910ce470-33a7-4326-8ad3-dcb01b2d0b30",
   "metadata": {},
   "source": [
    "Insert your Trove API key where indicated below."
   ]
  },
  {
   "cell_type": "code",
   "execution_count": 408,
   "id": "634d1c5c-bc10-43e3-9281-0d58d1fb444b",
   "metadata": {
    "tags": []
   },
   "outputs": [],
   "source": [
    "# Insert your Trove API key\n",
    "API_KEY = \"YOUR API KEY\"\n",
    "\n",
    "if os.getenv(\"TROVE_API_KEY\"):\n",
    "    API_KEY = os.getenv(\"TROVE_API_KEY\")"
   ]
  },
  {
   "cell_type": "markdown",
   "id": "0e94ff8b-d0a8-45ad-b82e-f895ba496429",
   "metadata": {},
   "source": [
    "## Define some functions"
   ]
  },
  {
   "cell_type": "code",
   "execution_count": 409,
   "id": "d5ff6ff2-1b22-49b5-8b22-d42bfe37db62",
   "metadata": {
    "tags": []
   },
   "outputs": [],
   "source": [
    "def is_digitised(node):\n",
    "    \"\"\"\n",
    "    Check if a node has digitised images associated with it.\n",
    "    \"\"\"\n",
    "    if \"class\" in node.parent.attrs and \"image-and-title\" in node.parent.attrs[\"class\"]:\n",
    "        return True\n",
    "    return False\n",
    "\n",
    "\n",
    "def get_first_page(node):\n",
    "    \"\"\"\n",
    "    Get the first page image identifier from a set of digitised images associated with a node.\n",
    "    \"\"\"\n",
    "    if img := node.parent.find(\"img\", class_=\"thumbnail\"):\n",
    "        return img[\"data-pid\"]\n",
    "\n",
    "\n",
    "def extract_node_details(node, level):\n",
    "    \"\"\"\n",
    "    Extract the details of the supplied finding aid node.\n",
    "    \"\"\"\n",
    "    details = {\n",
    "        \"id\": node.attrs[\"id\"],\n",
    "        \"title\": node.get_text().strip(),\n",
    "        \"description\": get_text(node),\n",
    "        \"digitised\": is_digitised(node),\n",
    "        \"first_page\": \"\",\n",
    "    }\n",
    "    if details[\"digitised\"]:\n",
    "        try:\n",
    "            details[\"first_page\"] = get_first_page(node)\n",
    "        except KeyError:\n",
    "            pass\n",
    "    details[\"children\"] = get_children(node, level)\n",
    "    return details\n",
    "\n",
    "\n",
    "def get_text(node):\n",
    "    \"\"\"\n",
    "    Get any text within the element that's not in tags or in <p> tags and combine into a single string.\n",
    "    \"\"\"\n",
    "    text = []\n",
    "    for child in node.parent.children:\n",
    "        if isinstance(child, NavigableString):\n",
    "            if string := str(child).strip():\n",
    "                text.append(string)\n",
    "        elif isinstance(child, Tag) and child.name == \"p\":\n",
    "            text.append(str(child.string).strip())\n",
    "    return \"\\n\".join(text)\n",
    "\n",
    "\n",
    "def get_children(parent, level):\n",
    "    \"\"\"\n",
    "    Get all items at the next level down within the hierarchy starting from the current element's parent.\n",
    "    \"\"\"\n",
    "    children = []\n",
    "    for child in parent.parent.find_all(class_=f\"ctag-heading c0{level + 1}\"):\n",
    "        children.append(extract_node_details(child, level + 1))\n",
    "    return children\n",
    "\n",
    "\n",
    "def get_string_by_id(soup, tag, id):\n",
    "    \"\"\"\n",
    "    Get the string value of the required html tag/id.\n",
    "    \"\"\"\n",
    "    try:\n",
    "        return str(soup.find(tag, id=id).string)\n",
    "    except AttributeError:\n",
    "        return \"\"\n",
    "\n",
    "\n",
    "def get_fa_details(soup):\n",
    "    \"\"\"\n",
    "    Get basic details of the finding aid.\n",
    "    \"\"\"\n",
    "    return {\n",
    "        \"title\": get_string_by_id(soup, \"h1\", \"contentrow\"),\n",
    "        \"collection_number\": get_string_by_id(soup, \"h2\", \"collection-number\"),\n",
    "    }\n",
    "\n",
    "\n",
    "def check_tag(node, tag):\n",
    "    \"\"\"\n",
    "    Check if the supplied node is a tag of the specified type.\n",
    "    \"\"\"\n",
    "    if isinstance(node, Tag) and node.name == tag:\n",
    "        return True\n",
    "    return False\n",
    "\n",
    "\n",
    "def find_sibling_tag(node, tag):\n",
    "    \"\"\"\n",
    "    Find the next sibling of the current node that is a tag of the specified type.\n",
    "    \"\"\"\n",
    "    for sib in node.next_siblings:\n",
    "        if check_tag(sib, tag):\n",
    "            return sib\n",
    "\n",
    "\n",
    "def get_fa_summary(soup):\n",
    "    \"\"\"\n",
    "    Get basic details of the finding aid.\n",
    "    \"\"\"\n",
    "    summary_data = {}\n",
    "    if summary_head := soup.find(id=\"collection-summary\"):\n",
    "        summary = find_sibling_tag(summary_head, \"dl\")\n",
    "        for label in summary.find_all(\"dt\"):\n",
    "            value = find_sibling_tag(label, \"dd\")\n",
    "            summary_data[\n",
    "                str(label.string).lower().strip().replace(\" \", \"_\")\n",
    "            ] = value.get_text().strip()\n",
    "    return summary_data\n",
    "\n",
    "\n",
    "def convert_finding_aid(soup):\n",
    "    \"\"\"\n",
    "    Extract the hierarchical structure of a html finding aid into a dict or JSON.\n",
    "    \"\"\"\n",
    "    fa_data = get_fa_summary(soup)\n",
    "    if \"title\" not in fa_data:\n",
    "        fa_data = get_fa_details(soup)\n",
    "    fa_items = []\n",
    "    for node in soup.find_all(class_=\"ctag-heading c01\"):\n",
    "        fa_items.append(extract_node_details(node, 1))\n",
    "    fa_data[\"items\"] = fa_items\n",
    "    return fa_data\n",
    "\n",
    "\n",
    "def find_leaves(node):\n",
    "    \"\"\"\n",
    "    Recurse through a collection of finding aid nodes\n",
    "    to find those at the bottom of the hierarchy (the leaves).\n",
    "\n",
    "    Leaves are identified by having no children.\n",
    "    \"\"\"\n",
    "    if isinstance(node, list):\n",
    "        for i in node:\n",
    "            for x in find_leaves(i):\n",
    "                yield x\n",
    "    elif isinstance(node, dict):\n",
    "        if node[\"children\"] == []:\n",
    "            yield node\n",
    "        else:\n",
    "            for j in node[\"children\"]:\n",
    "                for x in find_leaves(j):\n",
    "                    yield x"
   ]
  },
  {
   "cell_type": "code",
   "execution_count": 461,
   "id": "c115d36f-2797-4553-959f-9e04c46bc31e",
   "metadata": {
    "tags": []
   },
   "outputs": [],
   "source": [
    "finding_aids = pd.read_csv(\"https://raw.githubusercontent.com/GLAM-Workbench/nla-finding-aids-data/main/finding-aids.csv\").to_dict(\"records\")"
   ]
  },
  {
   "cell_type": "code",
   "execution_count": 462,
   "id": "efea5348-f4b1-4c1c-8e14-9be066389624",
   "metadata": {
    "tags": []
   },
   "outputs": [],
   "source": [
    "def add_fa_totals(finding_aids):\n",
    "    for fa in tqdm(finding_aids):\n",
    "        # print(fa[\"url\"])\n",
    "        response = s.get(fa[\"url\"])\n",
    "        if response.ok:\n",
    "            soup = BeautifulSoup(response.text)\n",
    "            fa_data = convert_finding_aid(soup)\n",
    "            fa.update(fa_data)\n",
    "            del fa[\"items\"]\n",
    "            # Remove little used fields\n",
    "            fa[\"total_elements\"] = len(\n",
    "                soup.find_all(class_=re.compile(r\"ctag-heading c0\\d\"))\n",
    "            )\n",
    "            leaves = list(find_leaves(fa_data[\"items\"]))\n",
    "            df = pd.DataFrame(leaves)\n",
    "            fa[\"total_items\"] = df.shape[0]\n",
    "            if not df.empty:\n",
    "                fa[\"total_digitised_items\"] = df.loc[df[\"digitised\"]].shape[0]\n",
    "    return finding_aids"
   ]
  },
  {
   "cell_type": "code",
   "execution_count": null,
   "id": "ed135df5-635b-4b8d-9e9c-66829635bf7c",
   "metadata": {
    "tags": [
     "nbval-skip"
    ]
   },
   "outputs": [],
   "source": [
    "# Copy the fa list and add in the additional info\n",
    "fa_totals = add_fa_totals(deepcopy(finding_aids))"
   ]
  },
  {
   "cell_type": "markdown",
   "id": "bb13ca07-d6da-4554-8ee8-f4226e5b0a83",
   "metadata": {},
   "source": [
    "## How many are searchable at item-level within the Trove diaries category?"
   ]
  },
  {
   "cell_type": "code",
   "execution_count": 410,
   "id": "f55819c6-59fe-4c51-8556-e59e18b0e8d5",
   "metadata": {
    "tags": []
   },
   "outputs": [],
   "source": [
    "API_URL = \"http://api.trove.nla.gov.au/v2/result\"\n",
    "\n",
    "params = {\n",
    "    \"zone\": \"collection\",\n",
    "    \"reclevel\": \"full\",\n",
    "    \"encoding\": \"json\",\n",
    "    \"n\": 0,\n",
    "    \"bulkHarvest\": \"true\",\n",
    "    \"key\": API_KEY,\n",
    "}\n",
    "\n",
    "\n",
    "def get_total(params):\n",
    "    response = s.get(API_URL, params=params)\n",
    "    data = response.json()\n",
    "    total = int(data[\"response\"][\"zone\"][0][\"records\"][\"total\"])\n",
    "    return total\n",
    "\n",
    "\n",
    "def add_searchable_totals(finding_aids):\n",
    "    for fa in tqdm(finding_aids):\n",
    "        fa_id = re.search(r\"nla.obj-\\d+\", fa[\"url\"]).group(0)\n",
    "        params[\"q\"] = f'\"{fa_id}/findingaid\"'\n",
    "        total = get_total(params)\n",
    "        fa[\"total_searchable\"] = total\n",
    "    return finding_aids"
   ]
  },
  {
   "cell_type": "code",
   "execution_count": null,
   "id": "54b46699-e4ac-4ba8-9063-4e2ed1277e8e",
   "metadata": {
    "tags": [
     "nbval-skip"
    ]
   },
   "outputs": [],
   "source": [
    "fa_totals = add_searchable_totals(fa_totals)"
   ]
  },
  {
   "cell_type": "code",
   "execution_count": 418,
   "id": "65c0279b-97e9-445e-82b3-4256919ca3b6",
   "metadata": {
    "tags": [
     "nbval-skip"
    ]
   },
   "outputs": [
    {
     "data": {
      "text/html": [
       "<div>\n",
       "<style scoped>\n",
       "    .dataframe tbody tr th:only-of-type {\n",
       "        vertical-align: middle;\n",
       "    }\n",
       "\n",
       "    .dataframe tbody tr th {\n",
       "        vertical-align: top;\n",
       "    }\n",
       "\n",
       "    .dataframe thead th {\n",
       "        text-align: right;\n",
       "    }\n",
       "</style>\n",
       "<table border=\"1\" class=\"dataframe\">\n",
       "  <thead>\n",
       "    <tr style=\"text-align: right;\">\n",
       "      <th></th>\n",
       "      <th>url</th>\n",
       "      <th>creator</th>\n",
       "      <th>title</th>\n",
       "      <th>date_range</th>\n",
       "      <th>collection_number</th>\n",
       "      <th>extent</th>\n",
       "      <th>language_of_materials</th>\n",
       "      <th>repository</th>\n",
       "      <th>total_elements</th>\n",
       "      <th>total_items</th>\n",
       "      <th>total_digitised_items</th>\n",
       "      <th>total_searchable</th>\n",
       "      <th>sponsor</th>\n",
       "      <th>abstract</th>\n",
       "      <th>physical_description</th>\n",
       "      <th>physical_facet</th>\n",
       "    </tr>\n",
       "  </thead>\n",
       "  <tbody>\n",
       "    <tr>\n",
       "      <th>0</th>\n",
       "      <td>http://nla.gov.au/nla.obj-240918828/findingaid</td>\n",
       "      <td>Thomas Vere Hodgson</td>\n",
       "      <td>Papers of Thomas Vere Hodgson</td>\n",
       "      <td>1901-1926</td>\n",
       "      <td>MS 223</td>\n",
       "      <td>0.36 metres (2 archive boxes)</td>\n",
       "      <td>English</td>\n",
       "      <td>National Library of Australia</td>\n",
       "      <td>69</td>\n",
       "      <td>69</td>\n",
       "      <td>0</td>\n",
       "      <td>1</td>\n",
       "      <td>NaN</td>\n",
       "      <td>NaN</td>\n",
       "      <td>NaN</td>\n",
       "      <td>NaN</td>\n",
       "    </tr>\n",
       "    <tr>\n",
       "      <th>1</th>\n",
       "      <td>http://nla.gov.au/nla.obj-241093353/findingaid</td>\n",
       "      <td>Lawrence Hargrave</td>\n",
       "      <td>Papers of Lawrence Hargrave</td>\n",
       "      <td>1908-1915</td>\n",
       "      <td>MS 352</td>\n",
       "      <td>1.02 metres (4 archive boxes + 1 small folio box)</td>\n",
       "      <td>English</td>\n",
       "      <td>National Library of Australia</td>\n",
       "      <td>37</td>\n",
       "      <td>37</td>\n",
       "      <td>0</td>\n",
       "      <td>1</td>\n",
       "      <td>NaN</td>\n",
       "      <td>NaN</td>\n",
       "      <td>NaN</td>\n",
       "      <td>NaN</td>\n",
       "    </tr>\n",
       "    <tr>\n",
       "      <th>2</th>\n",
       "      <td>http://nla.gov.au/nla.obj-241096550/findingaid</td>\n",
       "      <td>Samuel Mauger</td>\n",
       "      <td>Papers of Samuel Mauger</td>\n",
       "      <td>1895-1946</td>\n",
       "      <td>MS 403</td>\n",
       "      <td>0.15 metres (1 box)</td>\n",
       "      <td>English</td>\n",
       "      <td>National Library of Australia</td>\n",
       "      <td>14</td>\n",
       "      <td>14</td>\n",
       "      <td>0</td>\n",
       "      <td>1</td>\n",
       "      <td>NaN</td>\n",
       "      <td>NaN</td>\n",
       "      <td>NaN</td>\n",
       "      <td>NaN</td>\n",
       "    </tr>\n",
       "    <tr>\n",
       "      <th>3</th>\n",
       "      <td>http://nla.gov.au/nla.obj-252896402/findingaid</td>\n",
       "      <td>George Mackaness</td>\n",
       "      <td>Papers of George Mackaness</td>\n",
       "      <td>1853-1962</td>\n",
       "      <td>MS 534</td>\n",
       "      <td>3.24 metres (18 archive boxes)</td>\n",
       "      <td>English</td>\n",
       "      <td>National Library of Australia</td>\n",
       "      <td>16</td>\n",
       "      <td>16</td>\n",
       "      <td>0</td>\n",
       "      <td>1</td>\n",
       "      <td>NaN</td>\n",
       "      <td>NaN</td>\n",
       "      <td>NaN</td>\n",
       "      <td>NaN</td>\n",
       "    </tr>\n",
       "    <tr>\n",
       "      <th>4</th>\n",
       "      <td>http://nla.gov.au/nla.obj-241098568/findingaid</td>\n",
       "      <td>W. Farmer Whyte</td>\n",
       "      <td>Papers of W. Farmer Whyte</td>\n",
       "      <td>1766-1952</td>\n",
       "      <td>MS 563</td>\n",
       "      <td>0.78 metres (1 archives box + 1 large folio box)</td>\n",
       "      <td>English</td>\n",
       "      <td>National Library of Australia</td>\n",
       "      <td>61</td>\n",
       "      <td>53</td>\n",
       "      <td>0</td>\n",
       "      <td>1</td>\n",
       "      <td>NaN</td>\n",
       "      <td>NaN</td>\n",
       "      <td>NaN</td>\n",
       "      <td>NaN</td>\n",
       "    </tr>\n",
       "  </tbody>\n",
       "</table>\n",
       "</div>"
      ],
      "text/plain": [
       "                                              url              creator  \\\n",
       "0  http://nla.gov.au/nla.obj-240918828/findingaid  Thomas Vere Hodgson   \n",
       "1  http://nla.gov.au/nla.obj-241093353/findingaid    Lawrence Hargrave   \n",
       "2  http://nla.gov.au/nla.obj-241096550/findingaid        Samuel Mauger   \n",
       "3  http://nla.gov.au/nla.obj-252896402/findingaid     George Mackaness   \n",
       "4  http://nla.gov.au/nla.obj-241098568/findingaid      W. Farmer Whyte   \n",
       "\n",
       "                           title date_range collection_number  \\\n",
       "0  Papers of Thomas Vere Hodgson  1901-1926            MS 223   \n",
       "1    Papers of Lawrence Hargrave  1908-1915            MS 352   \n",
       "2        Papers of Samuel Mauger  1895-1946            MS 403   \n",
       "3     Papers of George Mackaness  1853-1962            MS 534   \n",
       "4      Papers of W. Farmer Whyte  1766-1952            MS 563   \n",
       "\n",
       "                                              extent language_of_materials  \\\n",
       "0                      0.36 metres (2 archive boxes)               English   \n",
       "1  1.02 metres (4 archive boxes + 1 small folio box)               English   \n",
       "2                                0.15 metres (1 box)               English   \n",
       "3                     3.24 metres (18 archive boxes)               English   \n",
       "4   0.78 metres (1 archives box + 1 large folio box)               English   \n",
       "\n",
       "                      repository  total_elements  total_items  \\\n",
       "0  National Library of Australia              69           69   \n",
       "1  National Library of Australia              37           37   \n",
       "2  National Library of Australia              14           14   \n",
       "3  National Library of Australia              16           16   \n",
       "4  National Library of Australia              61           53   \n",
       "\n",
       "   total_digitised_items  total_searchable sponsor abstract  \\\n",
       "0                      0                 1     NaN      NaN   \n",
       "1                      0                 1     NaN      NaN   \n",
       "2                      0                 1     NaN      NaN   \n",
       "3                      0                 1     NaN      NaN   \n",
       "4                      0                 1     NaN      NaN   \n",
       "\n",
       "  physical_description physical_facet  \n",
       "0                  NaN            NaN  \n",
       "1                  NaN            NaN  \n",
       "2                  NaN            NaN  \n",
       "3                  NaN            NaN  \n",
       "4                  NaN            NaN  "
      ]
     },
     "execution_count": 418,
     "metadata": {},
     "output_type": "execute_result"
    }
   ],
   "source": [
    "df_fa = pd.DataFrame(fa_totals)\n",
    "\n",
    "# Make totals ints\n",
    "df_fa[\n",
    "    [\"total_elements\", \"total_items\", \"total_digitised_items\", \"total_searchable\"]\n",
    "] = df_fa[\n",
    "    [\"total_elements\", \"total_items\", \"total_digitised_items\", \"total_searchable\"]\n",
    "].fillna(\n",
    "    value=0\n",
    ")\n",
    "df_fa[\n",
    "    [\"total_elements\", \"total_items\", \"total_digitised_items\", \"total_searchable\"]\n",
    "] = df_fa[\n",
    "    [\"total_elements\", \"total_items\", \"total_digitised_items\", \"total_searchable\"]\n",
    "].astype(\n",
    "    \"Int64\"\n",
    ")\n",
    "\n",
    "df_fa.head()"
   ]
  },
  {
   "cell_type": "markdown",
   "id": "ddb7b0b8-c70f-4dc9-94ff-a064d2fa4dfb",
   "metadata": {},
   "source": [
    "## Totals"
   ]
  },
  {
   "cell_type": "markdown",
   "id": "91a8bc4c-4edf-4934-a4a1-28dedecc11f9",
   "metadata": {},
   "source": [
    "How many finding aids are there?"
   ]
  },
  {
   "cell_type": "code",
   "execution_count": 444,
   "id": "1a4ce3e1-5ada-48a4-bcfb-ad6b966740e3",
   "metadata": {
    "tags": [
     "nbval-skip"
    ]
   },
   "outputs": [
    {
     "data": {
      "text/plain": [
       "2337"
      ]
     },
     "execution_count": 444,
     "metadata": {},
     "output_type": "execute_result"
    }
   ],
   "source": [
    "total_fa = df_fa.shape[0]\n",
    "total_fa"
   ]
  },
  {
   "cell_type": "markdown",
   "id": "2fa5e3fd-c590-4258-8cf8-29d8b3f5b659",
   "metadata": {},
   "source": [
    "An element is a component within the finding aid's hierarchical structure. It might be a container – like a series, box, or file – or it might be an individual document. Elements that are containers will have children. How many elements are included in the digitised finding aids?"
   ]
  },
  {
   "cell_type": "code",
   "execution_count": 437,
   "id": "646b68ba-f963-4452-b718-2e62b192ccc0",
   "metadata": {
    "tags": [
     "nbval-skip"
    ]
   },
   "outputs": [
    {
     "data": {
      "text/plain": [
       "473096"
      ]
     },
     "execution_count": 437,
     "metadata": {},
     "output_type": "execute_result"
    }
   ],
   "source": [
    "total_elements = df_fa[\"total_elements\"].sum()\n",
    "total_elements"
   ]
  },
  {
   "cell_type": "markdown",
   "id": "15b354d9-e109-4041-aa88-893ac887f1cb",
   "metadata": {},
   "source": [
    "An item is an element at the bottom of the finding aid's hierarchy (or a leaf at the top of the finding aid's tree). It might be a letter, or a diary. Items don't have any children of their own, but can have digitised images associated with them in the finding aid. How many items are listed in the finding aids?"
   ]
  },
  {
   "cell_type": "code",
   "execution_count": 434,
   "id": "0b2722ca-5429-4b08-964b-2e2a224ae55b",
   "metadata": {
    "tags": [
     "nbval-skip"
    ]
   },
   "outputs": [
    {
     "data": {
      "text/plain": [
       "435537"
      ]
     },
     "execution_count": 434,
     "metadata": {},
     "output_type": "execute_result"
    }
   ],
   "source": [
    "total_items = df_fa[\"total_items\"].sum()\n",
    "total_items"
   ]
  },
  {
   "cell_type": "markdown",
   "id": "90b9b3b8-ccc9-4173-aa6f-16bbd8f1db1c",
   "metadata": {},
   "source": [
    "If an item has digital images associated with it in the finding aid, it's counted as being digitised. How many items are digitised?"
   ]
  },
  {
   "cell_type": "code",
   "execution_count": 427,
   "id": "7c9fcfd3-4316-4015-a73e-94e8561b65c7",
   "metadata": {
    "tags": [
     "nbval-skip"
    ]
   },
   "outputs": [
    {
     "data": {
      "text/plain": [
       "128619"
      ]
     },
     "execution_count": 427,
     "metadata": {},
     "output_type": "execute_result"
    }
   ],
   "source": [
    "total_digitised = df_fa[\"total_digitised_items\"].sum()\n",
    "total_digitised"
   ]
  },
  {
   "cell_type": "markdown",
   "id": "a1956140-0d6b-4a8b-9ffa-fd8659c2a399",
   "metadata": {},
   "source": [
    "What proportion of items listed in finding aids are digitised?"
   ]
  },
  {
   "cell_type": "code",
   "execution_count": 439,
   "id": "1ad6c4a4-16a0-4bf1-805b-d6727ead474a",
   "metadata": {
    "tags": [
     "nbval-skip"
    ]
   },
   "outputs": [
    {
     "name": "stdout",
     "output_type": "stream",
     "text": [
      " 29.53% of items listed in finding aids are digitised.\n"
     ]
    }
   ],
   "source": [
    "print(\n",
    "    f\"{total_digitised / total_items: 0.2%} of items listed in finding aids are digitised.\"\n",
    ")"
   ]
  },
  {
   "cell_type": "code",
   "execution_count": null,
   "id": "bffb54a1-5ed2-44a4-91dd-5e756dec0b00",
   "metadata": {},
   "outputs": [],
   "source": []
  },
  {
   "cell_type": "code",
   "execution_count": 438,
   "id": "163e9291-8926-4aed-91e5-a1ae17f67365",
   "metadata": {
    "tags": [
     "nbval-skip"
    ]
   },
   "outputs": [
    {
     "data": {
      "text/plain": [
       "147228"
      ]
     },
     "execution_count": 438,
     "metadata": {},
     "output_type": "execute_result"
    }
   ],
   "source": [
    "total_searchable = df_fa[\"total_searchable\"].sum()\n",
    "total_searchable"
   ]
  },
  {
   "cell_type": "code",
   "execution_count": 440,
   "id": "c62576fe-af30-42bd-8e63-7cc631fba361",
   "metadata": {
    "tags": [
     "nbval-skip"
    ]
   },
   "outputs": [
    {
     "name": "stdout",
     "output_type": "stream",
     "text": [
      " 31.12% of elements listed in finding aids can be found by Trove searches.\n"
     ]
    }
   ],
   "source": [
    "print(\n",
    "    f\"{total_searchable / total_elements: 0.2%} of elements listed in finding aids can be found by Trove searches.\"\n",
    ")"
   ]
  },
  {
   "cell_type": "code",
   "execution_count": 443,
   "id": "0c3ed27e-b60c-4460-8e95-9091477b60ad",
   "metadata": {
    "tags": [
     "nbval-skip"
    ]
   },
   "outputs": [
    {
     "data": {
      "text/plain": [
       "846"
      ]
     },
     "execution_count": 443,
     "metadata": {},
     "output_type": "execute_result"
    }
   ],
   "source": [
    "fa_digitised = df_fa.loc[df_fa[\"total_digitised_items\"] > 0].shape[0]\n",
    "fa_digitised"
   ]
  },
  {
   "cell_type": "code",
   "execution_count": 445,
   "id": "417514f4-bbe5-4e84-a9d4-834455310109",
   "metadata": {
    "tags": [
     "nbval-skip"
    ]
   },
   "outputs": [
    {
     "name": "stdout",
     "output_type": "stream",
     "text": [
      " 36.20% of finding aids have at least some items digitised.\n"
     ]
    }
   ],
   "source": [
    "print(\n",
    "    f\"{fa_digitised / total_fa: 0.2%} of finding aids have at least some items digitised.\"\n",
    ")"
   ]
  },
  {
   "cell_type": "code",
   "execution_count": 449,
   "id": "b9261935-26b3-4889-9e7f-7786f4873ea7",
   "metadata": {
    "tags": [
     "nbval-skip"
    ]
   },
   "outputs": [
    {
     "data": {
      "text/plain": [
       "692"
      ]
     },
     "execution_count": 449,
     "metadata": {},
     "output_type": "execute_result"
    }
   ],
   "source": [
    "fa_searchable = df_fa.loc[df_fa[\"total_searchable\"] > 1].shape[0]\n",
    "fa_searchable"
   ]
  },
  {
   "cell_type": "code",
   "execution_count": 450,
   "id": "2be9e8a4-4f50-44e8-8aab-d6358cf9b4fa",
   "metadata": {
    "tags": [
     "nbval-skip"
    ]
   },
   "outputs": [
    {
     "name": "stdout",
     "output_type": "stream",
     "text": [
      " 29.61% of finding aids have at least some items that can be found in a Trove search.\n"
     ]
    }
   ],
   "source": [
    "print(\n",
    "    f\"{fa_searchable / total_fa: 0.2%} of finding aids have at least some items that can be found in a Trove search.\"\n",
    ")"
   ]
  },
  {
   "cell_type": "code",
   "execution_count": 424,
   "id": "ddff2c7b-b0d0-4916-a053-94a9ceae0e95",
   "metadata": {
    "tags": [
     "nbval-skip"
    ]
   },
   "outputs": [
    {
     "data": {
      "text/plain": [
       "1645"
      ]
     },
     "execution_count": 424,
     "metadata": {},
     "output_type": "execute_result"
    }
   ],
   "source": [
    "df_fa.loc[df_fa[\"total_searchable\"] <= 1].shape[0]"
   ]
  },
  {
   "cell_type": "markdown",
   "id": "699d683b-4a85-4913-8885-4b3d3dfbcf1a",
   "metadata": {},
   "source": [
    "These finding aids either couldn't be retrieved or list no items."
   ]
  },
  {
   "cell_type": "code",
   "execution_count": 388,
   "id": "65c92c9f-b40d-4edb-a9d9-4117134cdb74",
   "metadata": {
    "tags": [
     "nbval-skip"
    ]
   },
   "outputs": [
    {
     "data": {
      "text/plain": [
       "45       http://nla.gov.au/nla.obj-242432412/findingaid\n",
       "820      http://nla.gov.au/nla.obj-712634851/findingaid\n",
       "874      http://nla.gov.au/nla.obj-223908896/findingaid\n",
       "886      http://nla.gov.au/nla.obj-242374146/findingaid\n",
       "925      http://nla.gov.au/nla.obj-244365404/findingaid\n",
       "1242    http://nla.gov.au/nla.obj-1065313126/findingaid\n",
       "1396    http://nla.gov.au/nla.obj-2536380656/findingaid\n",
       "1649    http://nla.gov.au/nla.obj-2973770245/findingaid\n",
       "2059     http://nla.gov.au/nla.obj-253224791/findingaid\n",
       "2088     http://nla.gov.au/nla.obj-415329506/findingaid\n",
       "2316     http://nla.gov.au/nla.obj-342621178/findingaid\n",
       "Name: url, dtype: object"
      ]
     },
     "execution_count": 388,
     "metadata": {},
     "output_type": "execute_result"
    }
   ],
   "source": [
    "df_fa.loc[df_fa[\"total_items\"] == 0][\"url\"]"
   ]
  },
  {
   "cell_type": "code",
   "execution_count": 352,
   "id": "d30e295e-ec9f-49ef-9925-2bd8cc424b2d",
   "metadata": {
    "tags": [
     "nbval-skip"
    ]
   },
   "outputs": [
    {
     "data": {
      "text/plain": [
       "National Library of Australia        970\n",
       "Special Collections (Manuscripts)    557\n",
       "Australian Joint Copying Project     533\n",
       "Printed Collections                  168\n",
       "NLA                                   89\n",
       "Naitonal Library of Australia          2\n",
       "national Library of Australia          2\n",
       "Published Collections                  1\n",
       "Naitonal Library oF Australia          1\n",
       "Natinal Library of Australia           1\n",
       "National Libaray of Australia          1\n",
       "National LIbrary of Australia          1\n",
       "National Library of AUstralia          1\n",
       "Name: repository, dtype: int64"
      ]
     },
     "execution_count": 352,
     "metadata": {},
     "output_type": "execute_result"
    }
   ],
   "source": [
    "df_fa[\"repository\"].value_counts()"
   ]
  },
  {
   "cell_type": "code",
   "execution_count": 448,
   "id": "20d825ea-00ba-44ca-8c38-7f77ee3cef27",
   "metadata": {
    "tags": [
     "nbval-skip"
    ]
   },
   "outputs": [
    {
     "data": {
      "text/plain": [
       "692"
      ]
     },
     "execution_count": 448,
     "metadata": {},
     "output_type": "execute_result"
    }
   ],
   "source": [
    "# Number with searchable items\n",
    "df_fa.loc[df_fa[\"total_searchable\"] > 1].shape[0]"
   ]
  },
  {
   "cell_type": "markdown",
   "id": "eb4cb64b-1e12-46e8-8d48-8abcab14d633",
   "metadata": {},
   "source": [
    "## AJCP"
   ]
  },
  {
   "cell_type": "markdown",
   "id": "0d028d81-144c-4f7a-b094-cde65fbe183a",
   "metadata": {},
   "source": [
    "How many finding aids are part of the AJCP?"
   ]
  },
  {
   "cell_type": "code",
   "execution_count": 425,
   "id": "851a557e-a8a3-48af-85f2-028a88341136",
   "metadata": {
    "tags": [
     "nbval-skip"
    ]
   },
   "outputs": [
    {
     "data": {
      "text/plain": [
       "533"
      ]
     },
     "execution_count": 425,
     "metadata": {},
     "output_type": "execute_result"
    }
   ],
   "source": [
    "df_fa.loc[df_fa[\"repository\"] == \"Australian Joint Copying Project\"].shape[0]"
   ]
  },
  {
   "cell_type": "code",
   "execution_count": 433,
   "id": "161148c8-05d1-4584-9eb2-7bda8639f9ab",
   "metadata": {
    "tags": [
     "nbval-skip"
    ]
   },
   "outputs": [
    {
     "data": {
      "text/plain": [
       "103513"
      ]
     },
     "execution_count": 433,
     "metadata": {},
     "output_type": "execute_result"
    }
   ],
   "source": [
    "ajcp_items = df_fa.loc[df_fa[\"repository\"] == \"Australian Joint Copying Project\"][\n",
    "    \"total_items\"\n",
    "].sum()\n",
    "ajcp_items"
   ]
  },
  {
   "cell_type": "code",
   "execution_count": 426,
   "id": "a350a56f-25b0-46b0-ba4d-279e4b1ed982",
   "metadata": {
    "tags": [
     "nbval-skip"
    ]
   },
   "outputs": [
    {
     "data": {
      "text/plain": [
       "100810"
      ]
     },
     "execution_count": 426,
     "metadata": {},
     "output_type": "execute_result"
    }
   ],
   "source": [
    "ajcp_digitised = df_fa.loc[df_fa[\"repository\"] == \"Australian Joint Copying Project\"][\n",
    "    \"total_digitised_items\"\n",
    "].sum()\n",
    "ajcp_digitised"
   ]
  },
  {
   "cell_type": "code",
   "execution_count": 431,
   "id": "f36738c6-6e91-42ff-9445-ef88ebf478a4",
   "metadata": {
    "tags": [
     "nbval-skip"
    ]
   },
   "outputs": [
    {
     "name": "stdout",
     "output_type": "stream",
     "text": [
      " 78.38% of items digitised are part of the AJCP.\n"
     ]
    }
   ],
   "source": [
    "print(\n",
    "    f\"{ajcp_digitised / total_digitised: 0.2%} of items digitised are part of the AJCP.\"\n",
    ")"
   ]
  },
  {
   "cell_type": "code",
   "execution_count": 451,
   "id": "471b4b37-455e-40af-831e-f18a0e6f6a32",
   "metadata": {
    "tags": [
     "nbval-skip"
    ]
   },
   "outputs": [
    {
     "data": {
      "text/plain": [
       "118941"
      ]
     },
     "execution_count": 451,
     "metadata": {},
     "output_type": "execute_result"
    }
   ],
   "source": [
    "ajcp_elements = df_fa.loc[df_fa[\"repository\"] == \"Australian Joint Copying Project\"][\n",
    "    \"total_elements\"\n",
    "].sum()\n",
    "ajcp_elements"
   ]
  },
  {
   "cell_type": "code",
   "execution_count": 436,
   "id": "1f326e27-b87f-4fad-949c-308161fb1a77",
   "metadata": {
    "tags": [
     "nbval-skip"
    ]
   },
   "outputs": [
    {
     "data": {
      "text/plain": [
       "114089"
      ]
     },
     "execution_count": 436,
     "metadata": {},
     "output_type": "execute_result"
    }
   ],
   "source": [
    "ajcp_searchable = df_fa.loc[df_fa[\"repository\"] == \"Australian Joint Copying Project\"][\n",
    "    \"total_searchable\"\n",
    "].sum()\n",
    "ajcp_searchable"
   ]
  },
  {
   "cell_type": "code",
   "execution_count": 454,
   "id": "d459dbb7-dc9d-46ef-926a-345e376d0513",
   "metadata": {
    "tags": [
     "nbval-skip"
    ]
   },
   "outputs": [
    {
     "name": "stdout",
     "output_type": "stream",
     "text": [
      " 95.92% of elements in AJCP finding aids can be found in Trove searches.\n"
     ]
    }
   ],
   "source": [
    "print(\n",
    "    f\"{ajcp_searchable / ajcp_elements: 0.2%} of elements in AJCP finding aids can be found in Trove searches.\"\n",
    ")"
   ]
  },
  {
   "cell_type": "code",
   "execution_count": 455,
   "id": "fca828e0-6a28-4514-ad58-5929eb90c436",
   "metadata": {
    "tags": [
     "nbval-skip"
    ]
   },
   "outputs": [
    {
     "name": "stdout",
     "output_type": "stream",
     "text": [
      " 77.49% of elements found in Trove searches are part of the AJCP.\n"
     ]
    }
   ],
   "source": [
    "print(\n",
    "    f\"{ajcp_searchable / total_searchable: 0.2%} of elements found in Trove searches are part of the AJCP.\"\n",
    ")"
   ]
  },
  {
   "cell_type": "code",
   "execution_count": 354,
   "id": "180febc8-1d09-4a98-b484-7be683414b1c",
   "metadata": {
    "tags": [
     "nbval-skip"
    ]
   },
   "outputs": [
    {
     "data": {
      "text/html": [
       "<div>\n",
       "<style scoped>\n",
       "    .dataframe tbody tr th:only-of-type {\n",
       "        vertical-align: middle;\n",
       "    }\n",
       "\n",
       "    .dataframe tbody tr th {\n",
       "        vertical-align: top;\n",
       "    }\n",
       "\n",
       "    .dataframe thead th {\n",
       "        text-align: right;\n",
       "    }\n",
       "</style>\n",
       "<table border=\"1\" class=\"dataframe\">\n",
       "  <thead>\n",
       "    <tr style=\"text-align: right;\">\n",
       "      <th></th>\n",
       "      <th>url</th>\n",
       "      <th>creator</th>\n",
       "      <th>title</th>\n",
       "      <th>date_range</th>\n",
       "      <th>collection_number</th>\n",
       "      <th>extent</th>\n",
       "      <th>language_of_materials</th>\n",
       "      <th>repository</th>\n",
       "      <th>total_elements</th>\n",
       "      <th>total_items</th>\n",
       "      <th>total_digitised_items</th>\n",
       "      <th>total_searchable</th>\n",
       "      <th>sponsor</th>\n",
       "      <th>abstract</th>\n",
       "      <th>physical_description</th>\n",
       "      <th>physical_facet</th>\n",
       "      <th>ms_number</th>\n",
       "    </tr>\n",
       "  </thead>\n",
       "  <tbody>\n",
       "    <tr>\n",
       "      <th>1086</th>\n",
       "      <td>http://nla.gov.au/nla.obj-752720615/findingaid</td>\n",
       "      <td>Smyth, Arthur Bowes</td>\n",
       "      <td>Journal of Arthur Bowes Smyth (as filmed by th...</td>\n",
       "      <td>1787 - 1789</td>\n",
       "      <td>M933</td>\n",
       "      <td>1 item</td>\n",
       "      <td>English</td>\n",
       "      <td>Australian Joint Copying Project</td>\n",
       "      <td>1</td>\n",
       "      <td>1</td>\n",
       "      <td>1</td>\n",
       "      <td>1</td>\n",
       "      <td>The Australian Joint Copying Project (AJCP) on...</td>\n",
       "      <td>NaN</td>\n",
       "      <td>NaN</td>\n",
       "      <td>NaN</td>\n",
       "      <td>NaN</td>\n",
       "    </tr>\n",
       "    <tr>\n",
       "      <th>1228</th>\n",
       "      <td>http://nla.gov.au/nla.obj-836340466/findingaid</td>\n",
       "      <td>Thomas, Robert (Llanfechain, Montgomeryshire)</td>\n",
       "      <td>Papers of Robert Thomas (as filmed by the AJCP)</td>\n",
       "      <td>1863 - 1864</td>\n",
       "      <td>M2090</td>\n",
       "      <td>1 item</td>\n",
       "      <td>English</td>\n",
       "      <td>Australian Joint Copying Project</td>\n",
       "      <td>1</td>\n",
       "      <td>1</td>\n",
       "      <td>1</td>\n",
       "      <td>1</td>\n",
       "      <td>The Australian Joint Copying Project (AJCP) on...</td>\n",
       "      <td>NaN</td>\n",
       "      <td>NaN</td>\n",
       "      <td>NaN</td>\n",
       "      <td>NaN</td>\n",
       "    </tr>\n",
       "    <tr>\n",
       "      <th>2010</th>\n",
       "      <td>http://nla.gov.au/nla.obj-753102471/findingaid</td>\n",
       "      <td>Lee, John</td>\n",
       "      <td>Correspondence of John Lee (as filmed by the A...</td>\n",
       "      <td>1840 - 1865</td>\n",
       "      <td>M678</td>\n",
       "      <td>1 items</td>\n",
       "      <td>English</td>\n",
       "      <td>Australian Joint Copying Project</td>\n",
       "      <td>48</td>\n",
       "      <td>45</td>\n",
       "      <td>45</td>\n",
       "      <td>1</td>\n",
       "      <td>The Australian Joint Copying Project (AJCP) on...</td>\n",
       "      <td>NaN</td>\n",
       "      <td>NaN</td>\n",
       "      <td>NaN</td>\n",
       "      <td>NaN</td>\n",
       "    </tr>\n",
       "  </tbody>\n",
       "</table>\n",
       "</div>"
      ],
      "text/plain": [
       "                                                 url  \\\n",
       "1086  http://nla.gov.au/nla.obj-752720615/findingaid   \n",
       "1228  http://nla.gov.au/nla.obj-836340466/findingaid   \n",
       "2010  http://nla.gov.au/nla.obj-753102471/findingaid   \n",
       "\n",
       "                                            creator  \\\n",
       "1086                            Smyth, Arthur Bowes   \n",
       "1228  Thomas, Robert (Llanfechain, Montgomeryshire)   \n",
       "2010                                      Lee, John   \n",
       "\n",
       "                                                  title   date_range  \\\n",
       "1086  Journal of Arthur Bowes Smyth (as filmed by th...  1787 - 1789   \n",
       "1228    Papers of Robert Thomas (as filmed by the AJCP)  1863 - 1864   \n",
       "2010  Correspondence of John Lee (as filmed by the A...  1840 - 1865   \n",
       "\n",
       "     collection_number   extent language_of_materials  \\\n",
       "1086              M933   1 item               English   \n",
       "1228             M2090   1 item               English   \n",
       "2010              M678  1 items               English   \n",
       "\n",
       "                            repository  total_elements  total_items  \\\n",
       "1086  Australian Joint Copying Project               1            1   \n",
       "1228  Australian Joint Copying Project               1            1   \n",
       "2010  Australian Joint Copying Project              48           45   \n",
       "\n",
       "      total_digitised_items  total_searchable  \\\n",
       "1086                      1                 1   \n",
       "1228                      1                 1   \n",
       "2010                     45                 1   \n",
       "\n",
       "                                                sponsor abstract  \\\n",
       "1086  The Australian Joint Copying Project (AJCP) on...      NaN   \n",
       "1228  The Australian Joint Copying Project (AJCP) on...      NaN   \n",
       "2010  The Australian Joint Copying Project (AJCP) on...      NaN   \n",
       "\n",
       "     physical_description physical_facet ms_number  \n",
       "1086                  NaN            NaN       NaN  \n",
       "1228                  NaN            NaN       NaN  \n",
       "2010                  NaN            NaN       NaN  "
      ]
     },
     "execution_count": 354,
     "metadata": {},
     "output_type": "execute_result"
    }
   ],
   "source": [
    "df_fa.loc[\n",
    "    (df_fa[\"repository\"] == \"Australian Joint Copying Project\")\n",
    "    & (df_fa[\"total_searchable\"] <= 1)\n",
    "]"
   ]
  },
  {
   "cell_type": "markdown",
   "id": "0f32ac9d-a528-4937-935f-9470aee2a520",
   "metadata": {},
   "source": [
    "## Clean up the dataframe for saving"
   ]
  },
  {
   "cell_type": "code",
   "execution_count": 383,
   "id": "f71de80e-e331-4650-a40a-644bd1071e2c",
   "metadata": {
    "tags": [
     "nbval-skip"
    ]
   },
   "outputs": [],
   "source": [
    "# Remove little used columns and change order\n",
    "df_fa[\n",
    "    [\n",
    "        \"url\",\n",
    "        \"collection_number\",\n",
    "        \"title\",\n",
    "        \"creator\",\n",
    "        \"date_range\",\n",
    "        \"extent\",\n",
    "        \"language_of_materials\",\n",
    "        \"repository\",\n",
    "        \"sponsor\",\n",
    "        \"abstract\",\n",
    "        \"physical_description\",\n",
    "        \"total_elements\",\n",
    "        \"total_items\",\n",
    "        \"total_digitised_items\",\n",
    "        \"total_searchable\",\n",
    "    ]\n",
    "].sort_values(\"title\").to_csv(\"finding-aids-totals.csv\", index=False)"
   ]
  },
  {
   "cell_type": "code",
   "execution_count": null,
   "id": "c38601c3-d605-4c4f-8382-305c865d1dbd",
   "metadata": {
    "tags": []
   },
   "outputs": [],
   "source": [
    "# Ignore -- this is just used for testing in development\n",
    "if os.getenv(\"GW_STATUS\") == \"dev\":\n",
    "    fa_test = add_fa_totals(deepcopy(finding_aids[:10]))\n",
    "    fa_test = add_searchable_totals(fa_test)\n",
    "    df_test = pd.DataFrame(fa_test)\n",
    "    assert not df_test.empty\n",
    "    for col in [\n",
    "        \"title\",\n",
    "        \"url\",\n",
    "        \"collection_number\",\n",
    "        \"total_elements\",\n",
    "        \"total_items\",\n",
    "        \"total_digitised_items\",\n",
    "        \"total_searchable\",\n",
    "    ]:\n",
    "        assert col in df_test.columns"
   ]
  },
  {
   "cell_type": "markdown",
   "id": "8443056d-dcfd-43c5-9bf4-f714437d4c10",
   "metadata": {},
   "source": [
    "----\n",
    "\n",
    "Created by [Tim Sherratt](https://timsherratt.org/) for the [GLAM Workbench](https://glam-workbench.net/). Support this project by becoming a [GitHub sponsor](https://github.com/sponsors/wragge)."
   ]
  }
 ],
 "metadata": {
  "kernelspec": {
   "display_name": "Python 3 (ipykernel)",
   "language": "python",
   "name": "python3"
  },
  "language_info": {
   "codemirror_mode": {
    "name": "ipython",
    "version": 3
   },
   "file_extension": ".py",
   "mimetype": "text/x-python",
   "name": "python",
   "nbconvert_exporter": "python",
   "pygments_lexer": "ipython3",
   "version": "3.10.2"
  },
  "vscode": {
   "interpreter": {
    "hash": "e7370f93d1d0cde622a1f8e1c04877d8463912d04d973331ad4851f04de6915a"
   }
  }
 },
 "nbformat": 4,
 "nbformat_minor": 5
}
